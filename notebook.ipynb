{
 "cells": [
  {
   "cell_type": "code",
   "execution_count": null,
   "id": "EKijlwciFme3",
   "metadata": {
    "id": "EKijlwciFme3",
    "outputId": "6e0f4bc9-39e3-403a-84ac-d4fa67395b86"
   },
   "outputs": [],
   "source": [
    "!pip install --prefer-binary scikit-learn==1.0.2\n",
    "!pip install --prefer-binary xgboost==1.5.2"
   ]
  },
  {
   "cell_type": "markdown",
   "id": "ff6b6831-f330-4c54-9260-fb69353518f8",
   "metadata": {
    "id": "ff6b6831-f330-4c54-9260-fb69353518f8"
   },
   "source": [
    "# Giới thiệu đề tài\n",
    "\n",
    "Một khoản vay có nên được phê duyệt hay không? Các ngân hàng có thể đánh giá rủi ro của một đơn xin vay mới được không?\n",
    "\n",
    "Với một bộ dữ liệu khoản vay của Cơ quan quản lý doanh nghiệp nhỏ Hoa Kỳ (U.S. Small Business Administration - SBA) được cung cấp, hãy đưa ra lời khuyên cho ngân hàng để ra quyết định nêu trên."
   ]
  },
  {
   "cell_type": "markdown",
   "id": "497f0152-8286-4c1a-af03-8e8e5c885f08",
   "metadata": {
    "id": "497f0152-8286-4c1a-af03-8e8e5c885f08"
   },
   "source": [
    "# Làm rõ yêu cầu\n",
    "\n",
    "* Mục đích: Bản chất của hoạt động cho vay là dựa trên sự tin tưởng về việc Khách hàng sẽ hoàn trả tiền vay. Trường hợp Khách hàng không trả được nợ sẽ dẫn đến thiệt hại về vốn cho ngân hàng. Một trong các mục đích của ngân hàng là hạn chế các thiệt hại này thông qua nhận diện các Khách hàng xấu để từ chối cho vay. Bên cạnh đó ngân hàng cũng muốn tối đa hoá dư nợ cho vay (quy mô cho vay) từ đó tăng thu nhập từ lãi vay. Điều đó cũng đòi hỏi ngân hàng không từ chối những Khách hàng có nhiều khả năng là Khách hàng tốt.\n",
    "\n",
    "* Mục tiêu: Để đạt được mục đích đề ra ta cần phải dự đoán được liệu Khách hàng có trả được nợ hay không trong tương lai. Trường hợp kết quả dự đoán là \"trả được nợ\" thì ngân hàng có thể quyết định cho Khách hàng đó vay. Ngược lại nếu kết quả dự đoán là \"không trả được nợ\" thì để bảo toàn vốn ngân hàng có thể thông báo từ chối cho vay."
   ]
  },
  {
   "cell_type": "markdown",
   "id": "3c40b097-0205-4473-9fba-d40eacf4e8b4",
   "metadata": {
    "id": "3c40b097-0205-4473-9fba-d40eacf4e8b4"
   },
   "source": [
    "# Xác định cách tiếp cận giải quyết vấn đề\n",
    "\n",
    "* Có thể thấy bài toán này là một bài toán phân loại với kết quả đầu ra dưới dạng nhị phân (trả được nợ/ không trả được nợ).\n",
    "\n",
    "* Để xây dựng được mô hình dự đoán như yêu cầu, ta có thể sử dụng các phương pháp học có giám sát để huấn luyện mô hình trên dữ liệu đã có sẵn sau đó sử dụng mô hình để dự đoán cho các quan sát mới.\n",
    "\n",
    "* Theo yêu cầu này, Các mô hình chọn xây dựng: Logistic Regression, Gradient Boosting"
   ]
  },
  {
   "cell_type": "markdown",
   "id": "4bdee7c7-591c-4c3c-bf44-7f3afeb7e291",
   "metadata": {
    "id": "4bdee7c7-591c-4c3c-bf44-7f3afeb7e291"
   },
   "source": [
    "# Xác định các yêu cầu đối với dữ liệu\n",
    "\n",
    "Với các phương pháp đã lựa chọn, nguồn dữ liệu đầu vào cần đáp ứng các yêu cầu sau:\n",
    "\n",
    "* Dữ liệu đầu vào là dữ liệu có cấu trúc (bảng gồm hàng và cột);\n",
    "* Đối tượng cần đánh giá là từng khoản vay do đó mỗi một dòng trong bảng sẽ là một khoản vay đã được cho vay trong một giai đoạn nào đó;\n",
    "* Mỗi một khoản vay cần được dán nhãn trả được nợ/ không trả được nợ;"
   ]
  },
  {
   "cell_type": "markdown",
   "id": "a83d9fa4-0d89-4eed-9314-85d0fc52f96c",
   "metadata": {
    "id": "a83d9fa4-0d89-4eed-9314-85d0fc52f96c"
   },
   "source": [
    "# Thu thập dữ liệu\n",
    "\n",
    "* Nguồn dữ liệu được tải về từ https://www.kaggle.com/mirbektoktogaraev/should-this-loan-be-approved-or-denied\n",
    "* Bảng dữ liệu chính nằm trên file SBAnational.csv, ta sẽ sử dụng thư viện Pandas để load dữ liệu vào đối tượng DataFrame để tiện cho việc phân tích ở các bước sau.\n",
    "* Loại bỏ các dòng chưa được gắn nhãn\n",
    "* Điều chỉnh các trường hợp gắn nhãn chưa đúng: Có ChgOffDate hoặc có ChgOffPrinGr nhưng gắn nhãn PIF"
   ]
  },
  {
   "cell_type": "code",
   "execution_count": 1,
   "id": "64686809-b14f-4478-9529-96606a6356ef",
   "metadata": {
    "colab": {
     "base_uri": "https://localhost:8080/"
    },
    "id": "64686809-b14f-4478-9529-96606a6356ef",
    "outputId": "5ea29cf2-e526-4430-fdc1-dd5f353a1744",
    "tags": []
   },
   "outputs": [
    {
     "name": "stderr",
     "output_type": "stream",
     "text": [
      "/home/sonhn/learning/datascience/pyenv/lib/python3.9/site-packages/IPython/core/interactiveshell.py:3444: DtypeWarning: Columns (9) have mixed types.Specify dtype option on import or set low_memory=False.\n",
      "  exec(code_obj, self.user_global_ns, self.user_ns)\n"
     ]
    },
    {
     "name": "stdout",
     "output_type": "stream",
     "text": [
      "899164 rows loaded\n",
      "4927 labels change\n",
      "Drop NA\n",
      "897167 rows remain\n"
     ]
    }
   ],
   "source": [
    "import pandas as pd\n",
    "\n",
    "raw_df = pd.read_csv('data/SBAnational.csv')\n",
    "print(raw_df.shape[0], 'rows loaded')\n",
    "cond = (~raw_df['ChgOffDate'].isna()) | (raw_df['ChgOffPrinGr'] != '$0.00 ')\n",
    "cond = cond & (raw_df['MIS_Status']=='P I F')\n",
    "print(cond.sum(), 'labels change')\n",
    "raw_df.loc[cond, 'MIS_Status'] = 'CHGOFF'\n",
    "raw_df = raw_df[~raw_df['MIS_Status'].isna()]\n",
    "print('Drop NA')\n",
    "print(raw_df.shape[0], 'rows remain')"
   ]
  },
  {
   "cell_type": "markdown",
   "id": "df1abdef-96fc-49dc-9f94-036e8e9da5af",
   "metadata": {
    "id": "df1abdef-96fc-49dc-9f94-036e8e9da5af",
    "tags": []
   },
   "source": [
    "# Hiểu dữ liệu"
   ]
  },
  {
   "cell_type": "code",
   "execution_count": 2,
   "id": "f6783e4e-8ace-475a-898e-a457d282ed02",
   "metadata": {
    "id": "f6783e4e-8ace-475a-898e-a457d282ed02",
    "tags": []
   },
   "outputs": [],
   "source": [
    "import utils\n",
    "\n",
    "import pandas as pd\n",
    "import numpy as np\n",
    "import pickle\n",
    "import json\n",
    "from scipy.sparse import save_npz, load_npz\n",
    "\n",
    "from sklearn.model_selection import train_test_split\n",
    "\n",
    "%matplotlib inline\n",
    "import matplotlib.pyplot as plt\n",
    "\n",
    "from IPython.display import display\n",
    "\n",
    "import sys, importlib\n",
    "importlib.reload(sys.modules['utils'])\n",
    "from utils import *\n",
    "\n",
    "# Define constant\n",
    "POSITIVE = 'CHGOFF'\n",
    "NEGATIVE = 'P I F'\n",
    "LABELS = [NEGATIVE, POSITIVE]\n",
    "API_KEY = '545ab510-8aa0-11ec-ad0d-8929d7c50b49'\n",
    "RANDOM_STATE = 77"
   ]
  },
  {
   "cell_type": "markdown",
   "id": "2f4c155a-51f4-4cb0-80d5-dce297a06720",
   "metadata": {
    "id": "2f4c155a-51f4-4cb0-80d5-dce297a06720"
   },
   "source": [
    "## Thời điểm dữ liệu\n",
    "\n",
    "Đa số các khoản vay có thời hạn 5 năm (IQR1 = 60 tháng). Dữ liệu có các khoản vay đến 2014 do đó từ 2009 - 2014 sẽ thiếu dữ liệu do nhiều khoản vay giải ngân trong giai đoạn này chưa kết thúc, chưa xác định được là tốt hay xấu, do đó ta loại bỏ các khoản vay có ngày giải ngân trong khoảng thời gian này"
   ]
  },
  {
   "cell_type": "code",
   "execution_count": 3,
   "id": "b78a1695-b878-42e9-be04-0b4384277954",
   "metadata": {
    "colab": {
     "base_uri": "https://localhost:8080/"
    },
    "id": "b78a1695-b878-42e9-be04-0b4384277954",
    "outputId": "e21f08c6-2f5d-4891-8924-d3fb9a8e5b22"
   },
   "outputs": [
    {
     "name": "stdout",
     "output_type": "stream",
     "text": [
      "Term IQR1: 60.0\n",
      "Max charge off date: 2014-08-29 00:00:00\n",
      "Disbursement date less than: 2009-08-29 00:00:00\n",
      "849674 rows remain\n"
     ]
    }
   ],
   "source": [
    "iqr1 = raw_df['Term'].quantile(0.25)\n",
    "print('Term IQR1:', iqr1)\n",
    "\n",
    "disburse = date_value(raw_df[['DisbursementDate']], max_year=2020)['DisbursementDate']\n",
    "term = pd.DateOffset(months=iqr1)\n",
    "chgoff = date_value(raw_df[['ChgOffDate']], max_year=2020)['ChgOffDate']\n",
    "max_chgoff = chgoff.max()\n",
    "print('Max charge off date:', max_chgoff)\n",
    "max_disburse = max_chgoff - term\n",
    "print('Disbursement date less than:', max_disburse)\n",
    "cond = (disburse < max_disburse)\n",
    "raw_df = raw_df[cond]\n",
    "disburse = disburse[cond]\n",
    "print(raw_df.shape[0], 'rows remain')"
   ]
  },
  {
   "cell_type": "code",
   "execution_count": 4,
   "id": "a59f8312-ad46-4227-9a79-32916479e5c1",
   "metadata": {
    "id": "a59f8312-ad46-4227-9a79-32916479e5c1"
   },
   "outputs": [],
   "source": [
    "cust_date_df = pd.concat([raw_df['Name'], disburse], axis=1)\n",
    "oldest_chgoff = cust_date_df[raw_df['MIS_Status']==POSITIVE].groupby('Name', as_index=False).min()\n",
    "\n",
    "df = cust_date_df.merge(oldest_chgoff, how='left', on='Name')\n",
    "df.index = cust_date_df.index\n",
    "raw_df['ChgOffHist'] = df['DisbursementDate_x'] > df['DisbursementDate_y']"
   ]
  },
  {
   "cell_type": "markdown",
   "id": "ff3b1a77-38eb-4b6c-a76e-7ec6ca6f0ad4",
   "metadata": {
    "id": "ff3b1a77-38eb-4b6c-a76e-7ec6ca6f0ad4"
   },
   "source": [
    "## Phân tách tập huấn luyện, tập kiểm tra\n",
    "\n",
    "Tỷ lệ 75% / 25% "
   ]
  },
  {
   "cell_type": "code",
   "execution_count": 5,
   "id": "90e05517-8c21-4b47-a306-c0f1c328efc4",
   "metadata": {
    "colab": {
     "base_uri": "https://localhost:8080/"
    },
    "id": "90e05517-8c21-4b47-a306-c0f1c328efc4",
    "outputId": "c36ce199-907f-4c3b-9eca-03668697ab47"
   },
   "outputs": [
    {
     "name": "stdout",
     "output_type": "stream",
     "text": [
      "x_train shape: (637255, 27)\n",
      "x_test shape: (212419, 27)\n",
      "y_train shape: (637255,)\n",
      "y_test shape: (212419,)\n"
     ]
    }
   ],
   "source": [
    "raw_y = raw_df['MIS_Status'].copy()\n",
    "raw_df.drop(columns='MIS_Status', inplace=True)\n",
    "\n",
    "x_train, x_test, y_train, y_test = train_test_split(raw_df,\n",
    "                                                    raw_y,\n",
    "                                                    train_size=0.75,\n",
    "                                                    random_state=RANDOM_STATE,\n",
    "                                                    stratify=raw_y)\n",
    "\n",
    "print('x_train shape:', x_train.shape)\n",
    "print('x_test shape:', x_test.shape)\n",
    "print('y_train shape:', y_train.shape)\n",
    "print('y_test shape:', y_test.shape)\n",
    "\n",
    "del raw_df\n",
    "del raw_y"
   ]
  },
  {
   "cell_type": "markdown",
   "id": "58db147b-e135-4161-9a19-5fc039ceccaf",
   "metadata": {
    "id": "58db147b-e135-4161-9a19-5fc039ceccaf"
   },
   "source": [
    "## Biến mục tiêu\n",
    "\n",
    "* Biến mục tiêu có phân phối không đều\n",
    "* Biến mục tiêu đang được mã thành 2 loại:\n",
    "    - P I F = 'Paid in full' (Trả được nợ)\n",
    "    - CHGOFF = 'Charged off' (Không trả được nợ)\n",
    "* Tại bước chuẩn bị dữ liệu các loại này sẽ được chuyển thành mã 0 và 1 tương ứng."
   ]
  },
  {
   "cell_type": "code",
   "execution_count": 6,
   "id": "475d6d1e-5039-4659-a1e6-40cdd7406ee1",
   "metadata": {
    "colab": {
     "base_uri": "https://localhost:8080/",
     "height": 264
    },
    "id": "475d6d1e-5039-4659-a1e6-40cdd7406ee1",
    "outputId": "656e12e5-2343-4185-c397-ceb04c5716e1",
    "tags": []
   },
   "outputs": [
    {
     "data": {
      "image/png": "[encoded data removed]",
      "text/plain": [
       "<Figure size 432x288 with 1 Axes>"
      ]
     },
     "metadata": {},
     "output_type": "display_data"
    }
   ],
   "source": [
    "counts = y_train.value_counts()\n",
    "plt.pie(counts,\n",
    "        startangle=90,\n",
    "        autopct='%.2f%%')\n",
    "\n",
    "plt.title('MIS_Status')\n",
    "plt.legend(counts.index)\n",
    "#plt.savefig('chart/mis_status.png')\n",
    "plt.show()\n",
    "\n",
    "counts = y_train.value_counts()\n",
    "WEIGHT = counts[NEGATIVE] / counts[POSITIVE]"
   ]
  },
  {
   "cell_type": "markdown",
   "id": "a8a0fb7a-9db6-4262-acee-e02772639d9f",
   "metadata": {
    "id": "a8a0fb7a-9db6-4262-acee-e02772639d9f",
    "tags": []
   },
   "source": [
    "## Biến giải thích\n",
    "\n",
    "Cùng xem qua dữ liệu:"
   ]
  },
  {
   "cell_type": "code",
   "execution_count": null,
   "id": "53279d03-5c7f-48d7-be0f-de79650babca",
   "metadata": {
    "id": "53279d03-5c7f-48d7-be0f-de79650babca",
    "outputId": "d8dad21d-1c5f-4e97-97f8-db553c5898c0",
    "tags": []
   },
   "outputs": [
    {
     "name": "stdout",
     "output_type": "stream",
     "text": [
      "DataFrame head:\n"
     ]
    },
    {
     "data": {
      "text/html": [
       "<div>\n",
       "<style scoped>\n",
       "    .dataframe tbody tr th:only-of-type {\n",
       "        vertical-align: middle;\n",
       "    }\n",
       "\n",
       "    .dataframe tbody tr th {\n",
       "        vertical-align: top;\n",
       "    }\n",
       "\n",
       "    .dataframe thead th {\n",
       "        text-align: right;\n",
       "    }\n",
       "</style>\n",
       "<table border=\"1\" class=\"dataframe\">\n",
       "  <thead>\n",
       "    <tr style=\"text-align: right;\">\n",
       "      <th></th>\n",
       "      <th>LoanNr_ChkDgt</th>\n",
       "      <th>Name</th>\n",
       "      <th>City</th>\n",
       "      <th>State</th>\n",
       "      <th>Zip</th>\n",
       "      <th>Bank</th>\n",
       "      <th>BankState</th>\n",
       "      <th>NAICS</th>\n",
       "      <th>ApprovalDate</th>\n",
       "      <th>ApprovalFY</th>\n",
       "      <th>...</th>\n",
       "      <th>UrbanRural</th>\n",
       "      <th>RevLineCr</th>\n",
       "      <th>LowDoc</th>\n",
       "      <th>ChgOffDate</th>\n",
       "      <th>DisbursementDate</th>\n",
       "      <th>DisbursementGross</th>\n",
       "      <th>BalanceGross</th>\n",
       "      <th>ChgOffPrinGr</th>\n",
       "      <th>GrAppv</th>\n",
       "      <th>SBA_Appv</th>\n",
       "    </tr>\n",
       "  </thead>\n",
       "  <tbody>\n",
       "    <tr>\n",
       "      <th>187318</th>\n",
       "      <td>2329454006</td>\n",
       "      <td>CANDELAS GUITARS, INC.</td>\n",
       "      <td>LOS ANGELES</td>\n",
       "      <td>CA</td>\n",
       "      <td>90033</td>\n",
       "      <td>FIRST BANK</td>\n",
       "      <td>CA</td>\n",
       "      <td>339992</td>\n",
       "      <td>16-Sep-98</td>\n",
       "      <td>1998</td>\n",
       "      <td>...</td>\n",
       "      <td>0</td>\n",
       "      <td>N</td>\n",
       "      <td>N</td>\n",
       "      <td>NaN</td>\n",
       "      <td>31-Oct-98</td>\n",
       "      <td>$119,880.00</td>\n",
       "      <td>$0.00</td>\n",
       "      <td>$0.00</td>\n",
       "      <td>$119,880.00</td>\n",
       "      <td>$89,910.00</td>\n",
       "    </tr>\n",
       "    <tr>\n",
       "      <th>650367</th>\n",
       "      <td>6523314001</td>\n",
       "      <td>CTB TRASPORTATION SERVICES LC</td>\n",
       "      <td>MOAB</td>\n",
       "      <td>UT</td>\n",
       "      <td>84532</td>\n",
       "      <td>ZIONS FIRST NATIONAL BANK</td>\n",
       "      <td>UT</td>\n",
       "      <td>484110</td>\n",
       "      <td>24-Jul-03</td>\n",
       "      <td>2003</td>\n",
       "      <td>...</td>\n",
       "      <td>2</td>\n",
       "      <td>Y</td>\n",
       "      <td>N</td>\n",
       "      <td>NaN</td>\n",
       "      <td>31-Jul-03</td>\n",
       "      <td>$147,450.00</td>\n",
       "      <td>$0.00</td>\n",
       "      <td>$0.00</td>\n",
       "      <td>$100,000.00</td>\n",
       "      <td>$50,000.00</td>\n",
       "    </tr>\n",
       "    <tr>\n",
       "      <th>155823</th>\n",
       "      <td>2133525008</td>\n",
       "      <td>Lin-Mar Frosty Treats, Inc.</td>\n",
       "      <td>Hampstead</td>\n",
       "      <td>MD</td>\n",
       "      <td>21074</td>\n",
       "      <td>MANUFACTURERS &amp; TRADERS TR CO</td>\n",
       "      <td>NY</td>\n",
       "      <td>311412</td>\n",
       "      <td>20-Nov-06</td>\n",
       "      <td>2007</td>\n",
       "      <td>...</td>\n",
       "      <td>1</td>\n",
       "      <td>Y</td>\n",
       "      <td>N</td>\n",
       "      <td>NaN</td>\n",
       "      <td>31-Mar-07</td>\n",
       "      <td>$53,047.00</td>\n",
       "      <td>$0.00</td>\n",
       "      <td>$0.00</td>\n",
       "      <td>$41,000.00</td>\n",
       "      <td>$20,500.00</td>\n",
       "    </tr>\n",
       "    <tr>\n",
       "      <th>849052</th>\n",
       "      <td>9103623001</td>\n",
       "      <td>LAPIERRE CONCRETE FLATWARE,INC</td>\n",
       "      <td>BERWICK</td>\n",
       "      <td>ME</td>\n",
       "      <td>3901</td>\n",
       "      <td>CITIZENS BANK NATL ASSOC</td>\n",
       "      <td>NH</td>\n",
       "      <td>0</td>\n",
       "      <td>18-Mar-96</td>\n",
       "      <td>1996</td>\n",
       "      <td>...</td>\n",
       "      <td>0</td>\n",
       "      <td>0</td>\n",
       "      <td>N</td>\n",
       "      <td>NaN</td>\n",
       "      <td>30-Apr-96</td>\n",
       "      <td>$10,000.00</td>\n",
       "      <td>$0.00</td>\n",
       "      <td>$0.00</td>\n",
       "      <td>$10,000.00</td>\n",
       "      <td>$5,000.00</td>\n",
       "    </tr>\n",
       "    <tr>\n",
       "      <th>330280</th>\n",
       "      <td>3297826001</td>\n",
       "      <td>Universal Trade Systems</td>\n",
       "      <td>CERRITOS (DAIRY VALLEY)</td>\n",
       "      <td>CA</td>\n",
       "      <td>90703</td>\n",
       "      <td>BBCN BANK</td>\n",
       "      <td>CA</td>\n",
       "      <td>423390</td>\n",
       "      <td>27-Jun-08</td>\n",
       "      <td>2008</td>\n",
       "      <td>...</td>\n",
       "      <td>1</td>\n",
       "      <td>0</td>\n",
       "      <td>N</td>\n",
       "      <td>NaN</td>\n",
       "      <td>30-Sep-08</td>\n",
       "      <td>$1,500,000.00</td>\n",
       "      <td>$0.00</td>\n",
       "      <td>$0.00</td>\n",
       "      <td>$1,500,000.00</td>\n",
       "      <td>$1,350,000.00</td>\n",
       "    </tr>\n",
       "  </tbody>\n",
       "</table>\n",
       "<p>5 rows × 26 columns</p>\n",
       "</div>"
      ],
      "text/plain": [
       "        LoanNr_ChkDgt                            Name  \\\n",
       "187318     2329454006          CANDELAS GUITARS, INC.   \n",
       "650367     6523314001   CTB TRASPORTATION SERVICES LC   \n",
       "155823     2133525008     Lin-Mar Frosty Treats, Inc.   \n",
       "849052     9103623001  LAPIERRE CONCRETE FLATWARE,INC   \n",
       "330280     3297826001         Universal Trade Systems   \n",
       "\n",
       "                           City State    Zip                           Bank  \\\n",
       "187318              LOS ANGELES    CA  90033                     FIRST BANK   \n",
       "650367                     MOAB    UT  84532      ZIONS FIRST NATIONAL BANK   \n",
       "155823                Hampstead    MD  21074  MANUFACTURERS & TRADERS TR CO   \n",
       "849052                  BERWICK    ME   3901       CITIZENS BANK NATL ASSOC   \n",
       "330280  CERRITOS (DAIRY VALLEY)    CA  90703                      BBCN BANK   \n",
       "\n",
       "       BankState   NAICS ApprovalDate ApprovalFY  ...  UrbanRural  RevLineCr  \\\n",
       "187318        CA  339992    16-Sep-98       1998  ...           0          N   \n",
       "650367        UT  484110    24-Jul-03       2003  ...           2          Y   \n",
       "155823        NY  311412    20-Nov-06       2007  ...           1          Y   \n",
       "849052        NH       0    18-Mar-96       1996  ...           0          0   \n",
       "330280        CA  423390    27-Jun-08       2008  ...           1          0   \n",
       "\n",
       "        LowDoc  ChgOffDate  DisbursementDate  DisbursementGross  BalanceGross  \\\n",
       "187318       N         NaN         31-Oct-98       $119,880.00         $0.00    \n",
       "650367       N         NaN         31-Jul-03       $147,450.00         $0.00    \n",
       "155823       N         NaN         31-Mar-07        $53,047.00         $0.00    \n",
       "849052       N         NaN         30-Apr-96        $10,000.00         $0.00    \n",
       "330280       N         NaN         30-Sep-08     $1,500,000.00         $0.00    \n",
       "\n",
       "       ChgOffPrinGr          GrAppv        SBA_Appv  \n",
       "187318       $0.00     $119,880.00      $89,910.00   \n",
       "650367       $0.00     $100,000.00      $50,000.00   \n",
       "155823       $0.00      $41,000.00      $20,500.00   \n",
       "849052       $0.00      $10,000.00       $5,000.00   \n",
       "330280       $0.00   $1,500,000.00   $1,350,000.00   \n",
       "\n",
       "[5 rows x 26 columns]"
      ]
     },
     "metadata": {},
     "output_type": "display_data"
    },
    {
     "name": "stdout",
     "output_type": "stream",
     "text": [
      "\n",
      "Columns details:\n"
     ]
    },
    {
     "data": {
      "text/html": [
       "<div>\n",
       "<style scoped>\n",
       "    .dataframe tbody tr th:only-of-type {\n",
       "        vertical-align: middle;\n",
       "    }\n",
       "\n",
       "    .dataframe tbody tr th {\n",
       "        vertical-align: top;\n",
       "    }\n",
       "\n",
       "    .dataframe thead th {\n",
       "        text-align: right;\n",
       "    }\n",
       "</style>\n",
       "<table border=\"1\" class=\"dataframe\">\n",
       "  <thead>\n",
       "    <tr style=\"text-align: right;\">\n",
       "      <th></th>\n",
       "      <th>Column</th>\n",
       "      <th>Count</th>\n",
       "      <th>Null count</th>\n",
       "      <th>Num unique</th>\n",
       "      <th>Type</th>\n",
       "    </tr>\n",
       "  </thead>\n",
       "  <tbody>\n",
       "    <tr>\n",
       "      <th>0</th>\n",
       "      <td>LoanNr_ChkDgt</td>\n",
       "      <td>637255</td>\n",
       "      <td>0</td>\n",
       "      <td>637255</td>\n",
       "      <td>int64</td>\n",
       "    </tr>\n",
       "    <tr>\n",
       "      <th>1</th>\n",
       "      <td>Name</td>\n",
       "      <td>637245</td>\n",
       "      <td>10</td>\n",
       "      <td>567080</td>\n",
       "      <td>object</td>\n",
       "    </tr>\n",
       "    <tr>\n",
       "      <th>2</th>\n",
       "      <td>City</td>\n",
       "      <td>637229</td>\n",
       "      <td>26</td>\n",
       "      <td>27247</td>\n",
       "      <td>object</td>\n",
       "    </tr>\n",
       "    <tr>\n",
       "      <th>3</th>\n",
       "      <td>State</td>\n",
       "      <td>637244</td>\n",
       "      <td>11</td>\n",
       "      <td>51</td>\n",
       "      <td>object</td>\n",
       "    </tr>\n",
       "    <tr>\n",
       "      <th>4</th>\n",
       "      <td>Zip</td>\n",
       "      <td>637255</td>\n",
       "      <td>0</td>\n",
       "      <td>30951</td>\n",
       "      <td>int64</td>\n",
       "    </tr>\n",
       "    <tr>\n",
       "      <th>5</th>\n",
       "      <td>Bank</td>\n",
       "      <td>636133</td>\n",
       "      <td>1122</td>\n",
       "      <td>5248</td>\n",
       "      <td>object</td>\n",
       "    </tr>\n",
       "    <tr>\n",
       "      <th>6</th>\n",
       "      <td>BankState</td>\n",
       "      <td>636127</td>\n",
       "      <td>1128</td>\n",
       "      <td>55</td>\n",
       "      <td>object</td>\n",
       "    </tr>\n",
       "    <tr>\n",
       "      <th>7</th>\n",
       "      <td>NAICS</td>\n",
       "      <td>637255</td>\n",
       "      <td>0</td>\n",
       "      <td>1289</td>\n",
       "      <td>int64</td>\n",
       "    </tr>\n",
       "    <tr>\n",
       "      <th>8</th>\n",
       "      <td>ApprovalDate</td>\n",
       "      <td>637255</td>\n",
       "      <td>0</td>\n",
       "      <td>8239</td>\n",
       "      <td>object</td>\n",
       "    </tr>\n",
       "    <tr>\n",
       "      <th>9</th>\n",
       "      <td>ApprovalFY</td>\n",
       "      <td>637255</td>\n",
       "      <td>0</td>\n",
       "      <td>59</td>\n",
       "      <td>object</td>\n",
       "    </tr>\n",
       "    <tr>\n",
       "      <th>10</th>\n",
       "      <td>Term</td>\n",
       "      <td>637255</td>\n",
       "      <td>0</td>\n",
       "      <td>397</td>\n",
       "      <td>int64</td>\n",
       "    </tr>\n",
       "    <tr>\n",
       "      <th>11</th>\n",
       "      <td>NoEmp</td>\n",
       "      <td>637255</td>\n",
       "      <td>0</td>\n",
       "      <td>531</td>\n",
       "      <td>int64</td>\n",
       "    </tr>\n",
       "    <tr>\n",
       "      <th>12</th>\n",
       "      <td>NewExist</td>\n",
       "      <td>637255</td>\n",
       "      <td>0</td>\n",
       "      <td>3</td>\n",
       "      <td>float64</td>\n",
       "    </tr>\n",
       "    <tr>\n",
       "      <th>13</th>\n",
       "      <td>CreateJob</td>\n",
       "      <td>637255</td>\n",
       "      <td>0</td>\n",
       "      <td>216</td>\n",
       "      <td>int64</td>\n",
       "    </tr>\n",
       "    <tr>\n",
       "      <th>14</th>\n",
       "      <td>RetainedJob</td>\n",
       "      <td>637255</td>\n",
       "      <td>0</td>\n",
       "      <td>320</td>\n",
       "      <td>int64</td>\n",
       "    </tr>\n",
       "    <tr>\n",
       "      <th>15</th>\n",
       "      <td>FranchiseCode</td>\n",
       "      <td>637255</td>\n",
       "      <td>0</td>\n",
       "      <td>2418</td>\n",
       "      <td>int64</td>\n",
       "    </tr>\n",
       "    <tr>\n",
       "      <th>16</th>\n",
       "      <td>UrbanRural</td>\n",
       "      <td>637255</td>\n",
       "      <td>0</td>\n",
       "      <td>3</td>\n",
       "      <td>int64</td>\n",
       "    </tr>\n",
       "    <tr>\n",
       "      <th>17</th>\n",
       "      <td>RevLineCr</td>\n",
       "      <td>634238</td>\n",
       "      <td>3017</td>\n",
       "      <td>15</td>\n",
       "      <td>object</td>\n",
       "    </tr>\n",
       "    <tr>\n",
       "      <th>18</th>\n",
       "      <td>LowDoc</td>\n",
       "      <td>636348</td>\n",
       "      <td>907</td>\n",
       "      <td>8</td>\n",
       "      <td>object</td>\n",
       "    </tr>\n",
       "    <tr>\n",
       "      <th>19</th>\n",
       "      <td>ChgOffDate</td>\n",
       "      <td>117875</td>\n",
       "      <td>519380</td>\n",
       "      <td>6149</td>\n",
       "      <td>object</td>\n",
       "    </tr>\n",
       "    <tr>\n",
       "      <th>20</th>\n",
       "      <td>DisbursementDate</td>\n",
       "      <td>637255</td>\n",
       "      <td>0</td>\n",
       "      <td>6541</td>\n",
       "      <td>object</td>\n",
       "    </tr>\n",
       "    <tr>\n",
       "      <th>21</th>\n",
       "      <td>DisbursementGross</td>\n",
       "      <td>637255</td>\n",
       "      <td>0</td>\n",
       "      <td>92083</td>\n",
       "      <td>object</td>\n",
       "    </tr>\n",
       "    <tr>\n",
       "      <th>22</th>\n",
       "      <td>BalanceGross</td>\n",
       "      <td>637255</td>\n",
       "      <td>0</td>\n",
       "      <td>9</td>\n",
       "      <td>object</td>\n",
       "    </tr>\n",
       "    <tr>\n",
       "      <th>23</th>\n",
       "      <td>ChgOffPrinGr</td>\n",
       "      <td>637255</td>\n",
       "      <td>0</td>\n",
       "      <td>67725</td>\n",
       "      <td>object</td>\n",
       "    </tr>\n",
       "    <tr>\n",
       "      <th>24</th>\n",
       "      <td>GrAppv</td>\n",
       "      <td>637255</td>\n",
       "      <td>0</td>\n",
       "      <td>17993</td>\n",
       "      <td>object</td>\n",
       "    </tr>\n",
       "    <tr>\n",
       "      <th>25</th>\n",
       "      <td>SBA_Appv</td>\n",
       "      <td>637255</td>\n",
       "      <td>0</td>\n",
       "      <td>30914</td>\n",
       "      <td>object</td>\n",
       "    </tr>\n",
       "  </tbody>\n",
       "</table>\n",
       "</div>"
      ],
      "text/plain": [
       "               Column   Count  Null count  Num unique     Type\n",
       "0       LoanNr_ChkDgt  637255           0      637255    int64\n",
       "1                Name  637245          10      567080   object\n",
       "2                City  637229          26       27247   object\n",
       "3               State  637244          11          51   object\n",
       "4                 Zip  637255           0       30951    int64\n",
       "5                Bank  636133        1122        5248   object\n",
       "6           BankState  636127        1128          55   object\n",
       "7               NAICS  637255           0        1289    int64\n",
       "8        ApprovalDate  637255           0        8239   object\n",
       "9          ApprovalFY  637255           0          59   object\n",
       "10               Term  637255           0         397    int64\n",
       "11              NoEmp  637255           0         531    int64\n",
       "12           NewExist  637255           0           3  float64\n",
       "13          CreateJob  637255           0         216    int64\n",
       "14        RetainedJob  637255           0         320    int64\n",
       "15      FranchiseCode  637255           0        2418    int64\n",
       "16         UrbanRural  637255           0           3    int64\n",
       "17          RevLineCr  634238        3017          15   object\n",
       "18             LowDoc  636348         907           8   object\n",
       "19         ChgOffDate  117875      519380        6149   object\n",
       "20   DisbursementDate  637255           0        6541   object\n",
       "21  DisbursementGross  637255           0       92083   object\n",
       "22       BalanceGross  637255           0           9   object\n",
       "23       ChgOffPrinGr  637255           0       67725   object\n",
       "24             GrAppv  637255           0       17993   object\n",
       "25           SBA_Appv  637255           0       30914   object"
      ]
     },
     "metadata": {},
     "output_type": "display_data"
    }
   ],
   "source": [
    "print('DataFrame head:')\n",
    "display(x_train.head())\n",
    "print()\n",
    "\n",
    "print('Columns details:')\n",
    "display(get_df_info(x_train))"
   ]
  },
  {
   "cell_type": "markdown",
   "id": "928de89c-7db3-4ce4-96c6-6badf4041edc",
   "metadata": {
    "id": "928de89c-7db3-4ce4-96c6-6badf4041edc",
    "tags": []
   },
   "source": [
    "### DisbursementGross, GrAppv, SBA_Appv (số tiền giải ngân, số tiền phê duyệt, số tiền SBA bảo lãnh)\n",
    "\n",
    "* Dữ liệu dưới dạng chuỗi (ví dụ: $10,000.00) cần được chuyển thành float.\n",
    "* Các phân phối đều lệch phải. Thực hiện biến đổi log, qua biểu đồ trực quan hoá có thể thấy các khoản vay PIF có số tiền lớn hơn khoản vay CHGOFF.\n",
    "* Nhìn biểu đồ phân tán có thể thấy 3 biến này có quan hệ tuyến tính rõ với nhau. Do đó ta chỉ chọn 1 trong 3 biến để đưa vào huấn luyện."
   ]
  },
  {
   "cell_type": "code",
   "execution_count": null,
   "id": "57a33dcb-aa3a-406c-889a-bb89e1fc3d01",
   "metadata": {
    "id": "57a33dcb-aa3a-406c-889a-bb89e1fc3d01",
    "outputId": "03718622-98fe-4653-ceb9-555e85ee3673",
    "tags": []
   },
   "outputs": [
    {
     "data": {
      "image/png": "[encoded data removed]",
      "text/plain": [
       "<Figure size 1080x288 with 3 Axes>"
      ]
     },
     "metadata": {
      "needs_background": "light"
     },
     "output_type": "display_data"
    },
    {
     "data": {
      "image/png": "[encoded data removed]",
      "text/plain": [
       "<Figure size 1080x288 with 3 Axes>"
      ]
     },
     "metadata": {
      "needs_background": "light"
     },
     "output_type": "display_data"
    },
    {
     "data": {
      "image/png": "[encoded data removed]",
      "text/plain": [
       "<Figure size 1080x288 with 3 Axes>"
      ]
     },
     "metadata": {
      "needs_background": "light"
     },
     "output_type": "display_data"
    },
    {
     "data": {
      "image/png": "[encoded data removed]",
      "text/plain": [
       "<Figure size 432x288 with 1 Axes>"
      ]
     },
     "metadata": {
      "needs_background": "light"
     },
     "output_type": "display_data"
    },
    {
     "data": {
      "image/png": "[encoded data removed]",
      "text/plain": [
       "<Figure size 432x288 with 1 Axes>"
      ]
     },
     "metadata": {
      "needs_background": "light"
     },
     "output_type": "display_data"
    },
    {
     "data": {
      "image/png": "[encoded data removed]",
      "text/plain": [
       "<Figure size 432x288 with 1 Axes>"
      ]
     },
     "metadata": {
      "needs_background": "light"
     },
     "output_type": "display_data"
    }
   ],
   "source": [
    "cols = ['DisbursementGross', 'GrAppv', 'SBA_Appv']\n",
    "\n",
    "amounts = amount_value(x_train[cols])\n",
    "transformed_amounts = pd.DataFrame(np.log(amounts),\n",
    "                                   index=amounts.index,\n",
    "                                   columns=cols)\n",
    "\n",
    "for col in cols:\n",
    "    plot_hist_and_boxplot(amounts[col],\n",
    "                          transformed_amounts[col],\n",
    "                          y_train,\n",
    "                          LABELS)\n",
    "    plt.savefig('chart/' + col + '.png')\n",
    "plt.show()\n",
    "\n",
    "pairs = [('DisbursementGross', 'GrAppv'),\n",
    "         ('DisbursementGross', 'SBA_Appv'),\n",
    "         ('GrAppv', 'SBA_Appv')]\n",
    "\n",
    "corr_mat = transformed_amounts.corr()\n",
    "\n",
    "for f1, f2 in pairs:\n",
    "    plt.scatter(transformed_amounts[f1],\n",
    "                transformed_amounts[f2],\n",
    "                s=10.0,\n",
    "                alpha=0.5)\n",
    "    plt.title(f'{f2} (transformed) by {f1} (transformed) - R2: {corr_mat.loc[f1, f2]:.3f}')\n",
    "    plt.xlabel(f1)\n",
    "    plt.ylabel(f2)\n",
    "    plt.savefig('chart/' + f1 + '_' + f2 + '.png')\n",
    "    plt.show()"
   ]
  },
  {
   "cell_type": "markdown",
   "id": "ea6c032d-0273-4436-83f3-f1d1dce916bf",
   "metadata": {
    "id": "ea6c032d-0273-4436-83f3-f1d1dce916bf"
   },
   "source": [
    "### SBA_Appv_Ratio (tỷ lệ bảo lãnh của SBA)\n",
    "\n",
    "Khi loại bỏ GrAppv và SBA_Appv và thay thế bằng tỷ lệ SBA_Appv / GrAppv thì biến mới này có khả năng giải thích kết quả CHGOFF / PIF. Lý lẽ là khi SBA đánh giá khoản vay có khả năng trả được nợ thì mới chấp nhận tỷ lệ bảo lãnh cao và ngược lại."
   ]
  },
  {
   "cell_type": "code",
   "execution_count": null,
   "id": "6379bea9-7ae2-4128-b3e6-659f2a9547d5",
   "metadata": {
    "id": "6379bea9-7ae2-4128-b3e6-659f2a9547d5",
    "outputId": "5a393bbd-5000-4aaf-f9a7-2922e3f21d36",
    "tags": []
   },
   "outputs": [
    {
     "data": {
      "image/png": "[encoded data removed]",
      "text/plain": [
       "<Figure size 432x288 with 1 Axes>"
      ]
     },
     "metadata": {
      "needs_background": "light"
     },
     "output_type": "display_data"
    }
   ],
   "source": [
    "sba_ratio = amounts['SBA_Appv'] / amounts['GrAppv']\n",
    "sba_ratio.name = 'SBA_Appv_Ratio'\n",
    "plot_box(sba_ratio, y_train, LABELS)\n",
    "plt.savefig('chart/ratio.png')\n",
    "plt.show()"
   ]
  },
  {
   "cell_type": "markdown",
   "id": "44c26a05-8915-4eab-9387-d3a97d61cc73",
   "metadata": {
    "id": "44c26a05-8915-4eab-9387-d3a97d61cc73"
   },
   "source": [
    "### BalanceGross\n",
    "\n",
    "Phần lớn BalanceGross bằng 0 do KH đã trả hết nợ hoặc chuyển thành nợ không trả được do đó cũng có thể bỏ qua."
   ]
  },
  {
   "cell_type": "code",
   "execution_count": null,
   "id": "bf8577c6-11a3-48e1-b39b-919af29a682b",
   "metadata": {
    "id": "bf8577c6-11a3-48e1-b39b-919af29a682b",
    "outputId": "55c97bb6-9725-4476-97fb-a290311e087a",
    "tags": []
   },
   "outputs": [
    {
     "name": "stdout",
     "output_type": "stream",
     "text": [
      "BalanceGross counts:\n"
     ]
    },
    {
     "data": {
      "text/plain": [
       "$0.00           637247\n",
       "$827,875.00          1\n",
       "$25,000.00           1\n",
       "$600.00              1\n",
       "$37,100.00           1\n",
       "$395,476.00          1\n",
       "$996,262.00          1\n",
       "$41,509.00           1\n",
       "$12,750.00           1\n",
       "Name: BalanceGross, dtype: int64"
      ]
     },
     "execution_count": 9,
     "metadata": {},
     "output_type": "execute_result"
    }
   ],
   "source": [
    "print('BalanceGross counts:')\n",
    "x_train['BalanceGross'].value_counts()"
   ]
  },
  {
   "cell_type": "markdown",
   "id": "bce18ef8-8d43-46fd-b4b2-d6ea8fb6f16b",
   "metadata": {
    "id": "bce18ef8-8d43-46fd-b4b2-d6ea8fb6f16b"
   },
   "source": [
    "### DisbursementDate (ngày giải ngân)\n",
    "\n",
    "Ngày giải ngân đến 2009 như phân tích trên. Định dạng dưới dạng chuỗi (ví dụ 3-Jun-89) cần được chuyển đổi thành datetime"
   ]
  },
  {
   "cell_type": "code",
   "execution_count": 7,
   "id": "9eb75073-fd27-4c80-98a3-27e0dbce2d30",
   "metadata": {
    "id": "9eb75073-fd27-4c80-98a3-27e0dbce2d30",
    "outputId": "50725086-4a07-48ac-ce32-5a4710debbb7",
    "tags": []
   },
   "outputs": [
    {
     "name": "stdout",
     "output_type": "stream",
     "text": [
      "Converted DisbursementDate:\n"
     ]
    },
    {
     "data": {
      "text/plain": [
       "642915   1928-06-18\n",
       "54648    1948-09-17\n",
       "697801   1968-03-19\n",
       "732056   1968-11-22\n",
       "720402   1969-05-26\n",
       "            ...    \n",
       "370525   2009-08-27\n",
       "369599   2009-08-27\n",
       "370925   2009-08-27\n",
       "370179   2009-08-27\n",
       "369332   2009-08-28\n",
       "Name: DisbursementDate, Length: 637255, dtype: datetime64[ns]"
      ]
     },
     "execution_count": 7,
     "metadata": {},
     "output_type": "execute_result"
    }
   ],
   "source": [
    "disburse_dates = date_value(x_train[['DisbursementDate']], max_year=2020)\n",
    "disburse_dates = disburse_dates['DisbursementDate']\n",
    "print('Converted DisbursementDate:')\n",
    "disburse_dates.dropna().sort_values()"
   ]
  },
  {
   "cell_type": "markdown",
   "id": "7b426a56-e710-466c-b0fa-323e3e5f1f82",
   "metadata": {
    "id": "7b426a56-e710-466c-b0fa-323e3e5f1f82"
   },
   "source": [
    "### ChgOffHist (lịch sử nợ xấu)\n",
    "\n",
    "* Một khách hàng có thể có nhiều khoản vay.\n",
    "* Nếu khoản vay trước đó không trả được nợ thì các khoản vay sau đó cũng có xu hướng không trả được nợ"
   ]
  },
  {
   "cell_type": "code",
   "execution_count": null,
   "id": "77282c26-cade-44ad-bf06-d9a4eadfc6f6",
   "metadata": {
    "id": "77282c26-cade-44ad-bf06-d9a4eadfc6f6",
    "outputId": "87e51b05-c0e5-4edf-b842-16ea33231fcb"
   },
   "outputs": [
    {
     "data": {
      "image/png": "[encoded data removed]",
      "text/plain": [
       "<Figure size 432x288 with 1 Axes>"
      ]
     },
     "metadata": {
      "needs_background": "light"
     },
     "output_type": "display_data"
    }
   ],
   "source": [
    "chgoffhist = x_train['ChgOffHist']\n",
    "\n",
    "counts = pd.DataFrame(y_train).pivot_table(index=y_train,\n",
    "                                           columns=chgoffhist,\n",
    "                                           values=y_train.name,\n",
    "                                           aggfunc='count')\n",
    "portions = counts / counts.sum()\n",
    "plot_stacked_bars(portions)\n",
    "plt.savefig('chart/chgoffhist.png')\n",
    "plt.show()"
   ]
  },
  {
   "cell_type": "markdown",
   "id": "0d89172b-5282-4959-bdee-569298067979",
   "metadata": {
    "id": "0d89172b-5282-4959-bdee-569298067979",
    "tags": []
   },
   "source": [
    "### Term (kỳ hạn)\n",
    "\n",
    "* Kỳ hạn vay không bị thiếu dữ liệu. Tuy nhiên có khoảng 600 trường hợp có kỳ hạn bằng 0 có thể gán giá trị mode.\n",
    "* Các khoản vay CHGOFF thường có kỳ hạn thấp hơn khoản vay PIF."
   ]
  },
  {
   "cell_type": "code",
   "execution_count": null,
   "id": "7fbfd71c-62b8-4b8f-a5ec-6fa313a3827b",
   "metadata": {
    "id": "7fbfd71c-62b8-4b8f-a5ec-6fa313a3827b",
    "outputId": "aaf4baa4-1184-4cd2-c235-b67e5d0e4cdd",
    "tags": []
   },
   "outputs": [
    {
     "name": "stdout",
     "output_type": "stream",
     "text": [
      "Zero Term counts:\n"
     ]
    },
    {
     "data": {
      "text/plain": [
       "False    636652\n",
       "True        603\n",
       "Name: Term, dtype: int64"
      ]
     },
     "metadata": {},
     "output_type": "display_data"
    },
    {
     "data": {
      "image/png": "[encoded data removed]",
      "text/plain": [
       "<Figure size 432x288 with 1 Axes>"
      ]
     },
     "metadata": {
      "needs_background": "light"
     },
     "output_type": "display_data"
    },
    {
     "data": {
      "image/png": "[encoded data removed]",
      "text/plain": [
       "<Figure size 432x288 with 1 Axes>"
      ]
     },
     "metadata": {
      "needs_background": "light"
     },
     "output_type": "display_data"
    }
   ],
   "source": [
    "terms = x_train['Term']\n",
    "print('Zero Term counts:')\n",
    "cond = (terms==0)\n",
    "display(cond.value_counts())\n",
    "\n",
    "plt.hist(terms, bins=20)\n",
    "plt.title('Terms distribution')\n",
    "plt.ylabel('Count')\n",
    "plt.xlabel('Month')\n",
    "plt.show()\n",
    "\n",
    "plot_box(x_train['Term'], y_train, LABELS)\n",
    "plt.savefig('chart/term.png')\n",
    "plt.show()"
   ]
  },
  {
   "cell_type": "markdown",
   "id": "4c05d749-ab01-4c4a-a844-b4a42b103de9",
   "metadata": {
    "id": "4c05d749-ab01-4c4a-a844-b4a42b103de9",
    "tags": []
   },
   "source": [
    "### Recession (suy thoái kinh tế)\n",
    "\n",
    "* Các khoản vay có trải qua giai đoạn suy thoái kinh tế (tháng 12/2007 đến tháng 6/2009) có tỷ lệ CHGOFF cao hơn các giai đoạn khác. Đây là biến được tạo ra để đưa vào huấn luyện (https://en.wikipedia.org/wiki/Great_Recession)\n",
    "* Điều kiện xác định khoản vay trải qua giai đoạn suy thoái kinh tế:\n",
    "    + Ngày hết hạn trước 30/06/2009\n",
    "    + Ngày giải ngân sau 01/12/2007\n",
    "    + Trong đó Ngày hết hạn = ngày bắt đầu + kỳ hạn"
   ]
  },
  {
   "cell_type": "code",
   "execution_count": 8,
   "id": "8a8ffa45-8859-49e6-84a1-825ed8008e97",
   "metadata": {
    "id": "8a8ffa45-8859-49e6-84a1-825ed8008e97",
    "outputId": "8375cb70-2a55-4659-e7ce-6d78b725afaf",
    "tags": []
   },
   "outputs": [
    {
     "name": "stderr",
     "output_type": "stream",
     "text": [
      "/home/sonhn/learning/datascience/pyenv/lib/python3.9/site-packages/pandas/core/arrays/datetimelike.py:1187: PerformanceWarning: Adding/subtracting object-dtype array to DatetimeArray not vectorized\n",
      "  warnings.warn(\n"
     ]
    },
    {
     "data": {
      "image/png": "[encoded data removed]",
      "text/plain": [
       "<Figure size 432x288 with 1 Axes>"
      ]
     },
     "metadata": {
      "needs_background": "light"
     },
     "output_type": "display_data"
    }
   ],
   "source": [
    "recession = mature_between(disburse_dates,\n",
    "                           x_train['Term'],\n",
    "                           '2007-12-01',\n",
    "                           '2009-06-30')\n",
    "recession.name = 'Recession'\n",
    "\n",
    "counts = x_train.pivot_table(index=y_train,\n",
    "                             columns=recession,\n",
    "                             values='LoanNr_ChkDgt',\n",
    "                             aggfunc='count')\n",
    "\n",
    "portions = counts / counts.sum()\n",
    "plot_stacked_bars(portions)\n",
    "plt.savefig('chart/recession.png')\n",
    "plt.show()"
   ]
  },
  {
   "cell_type": "markdown",
   "id": "c07278c1-9fa0-43bd-8054-9d0ec45a9ecd",
   "metadata": {
    "id": "c07278c1-9fa0-43bd-8054-9d0ec45a9ecd",
    "tags": []
   },
   "source": [
    "### City, State, Zip (thành phố, bang, zip code)\n",
    "\n",
    "* Số bang = 51 (50 bang + Washington DC), số thành phố, Zip code có gần 30.000 phân loại.\n",
    "* Các biến này đều thể hiện địa điểm của Khách hàng. Để giảm số lượng nhóm ta sẽ chọn bang (State) để đưa vào huấn luyện.\n",
    "* Với các trường hợp thiếu dữ liệu có thể suy luận từ mã Zip. Ở đây sử dụng REST API từ [app.zipcodebase.com](app.zipcodebase.com). Các trường hợp còn lại: UNK (unknow)\n",
    "* Luận điểm ở đây: Mỗi bang ở nước Mỹ có 1 hệ thống pháp luật, môi trường kinh doanh, cơ cấu kinh tế khác nhau do đó có thể có tỷ lệ CHGOFF khác nhau. Ta có thể kiểm chứng qua việc vẽ biểu đồ trực quan hoá."
   ]
  },
  {
   "cell_type": "code",
   "execution_count": null,
   "id": "017872fb-d3c9-4d65-81c7-c31012809c48",
   "metadata": {
    "id": "017872fb-d3c9-4d65-81c7-c31012809c48",
    "outputId": "aa936b1e-1b33-41ee-b160-a7b334c21018",
    "tags": []
   },
   "outputs": [
    {
     "name": "stdout",
     "output_type": "stream",
     "text": [
      "Missing State:\n"
     ]
    },
    {
     "data": {
      "text/html": [
       "<div>\n",
       "<style scoped>\n",
       "    .dataframe tbody tr th:only-of-type {\n",
       "        vertical-align: middle;\n",
       "    }\n",
       "\n",
       "    .dataframe tbody tr th {\n",
       "        vertical-align: top;\n",
       "    }\n",
       "\n",
       "    .dataframe thead th {\n",
       "        text-align: right;\n",
       "    }\n",
       "</style>\n",
       "<table border=\"1\" class=\"dataframe\">\n",
       "  <thead>\n",
       "    <tr style=\"text-align: right;\">\n",
       "      <th></th>\n",
       "      <th>City</th>\n",
       "      <th>Zip</th>\n",
       "      <th>State</th>\n",
       "    </tr>\n",
       "  </thead>\n",
       "  <tbody>\n",
       "    <tr>\n",
       "      <th>885335</th>\n",
       "      <td>A452638533</td>\n",
       "      <td>76645</td>\n",
       "      <td>NaN</td>\n",
       "    </tr>\n",
       "    <tr>\n",
       "      <th>367007</th>\n",
       "      <td>SOMERSET</td>\n",
       "      <td>54025</td>\n",
       "      <td>NaN</td>\n",
       "    </tr>\n",
       "    <tr>\n",
       "      <th>871847</th>\n",
       "      <td>A452638533</td>\n",
       "      <td>76052</td>\n",
       "      <td>NaN</td>\n",
       "    </tr>\n",
       "    <tr>\n",
       "      <th>385418</th>\n",
       "      <td>LAKE OZARK</td>\n",
       "      <td>65049</td>\n",
       "      <td>NaN</td>\n",
       "    </tr>\n",
       "    <tr>\n",
       "      <th>366139</th>\n",
       "      <td>PALM BEACH GARDENS</td>\n",
       "      <td>33410</td>\n",
       "      <td>NaN</td>\n",
       "    </tr>\n",
       "    <tr>\n",
       "      <th>869948</th>\n",
       "      <td>A452638533</td>\n",
       "      <td>75236</td>\n",
       "      <td>NaN</td>\n",
       "    </tr>\n",
       "    <tr>\n",
       "      <th>379174</th>\n",
       "      <td>SALT LAKE CITY</td>\n",
       "      <td>84124</td>\n",
       "      <td>NaN</td>\n",
       "    </tr>\n",
       "    <tr>\n",
       "      <th>366158</th>\n",
       "      <td>CASCO</td>\n",
       "      <td>54205</td>\n",
       "      <td>NaN</td>\n",
       "    </tr>\n",
       "    <tr>\n",
       "      <th>351072</th>\n",
       "      <td>1542,TABUK,SAUDI ARABIA</td>\n",
       "      <td>79925</td>\n",
       "      <td>NaN</td>\n",
       "    </tr>\n",
       "    <tr>\n",
       "      <th>306274</th>\n",
       "      <td>BOX 267, APO  AP</td>\n",
       "      <td>96205</td>\n",
       "      <td>NaN</td>\n",
       "    </tr>\n",
       "    <tr>\n",
       "      <th>264664</th>\n",
       "      <td>CAMERON PARK</td>\n",
       "      <td>95682</td>\n",
       "      <td>NaN</td>\n",
       "    </tr>\n",
       "  </tbody>\n",
       "</table>\n",
       "</div>"
      ],
      "text/plain": [
       "                           City    Zip State\n",
       "885335               A452638533  76645   NaN\n",
       "367007                 SOMERSET  54025   NaN\n",
       "871847               A452638533  76052   NaN\n",
       "385418               LAKE OZARK  65049   NaN\n",
       "366139       PALM BEACH GARDENS  33410   NaN\n",
       "869948               A452638533  75236   NaN\n",
       "379174           SALT LAKE CITY  84124   NaN\n",
       "366158                    CASCO  54205   NaN\n",
       "351072  1542,TABUK,SAUDI ARABIA  79925   NaN\n",
       "306274         BOX 267, APO  AP  96205   NaN\n",
       "264664             CAMERON PARK  95682   NaN"
      ]
     },
     "metadata": {},
     "output_type": "display_data"
    },
    {
     "name": "stdout",
     "output_type": "stream",
     "text": [
      "Find State from Zip:\n"
     ]
    },
    {
     "name": "stderr",
     "output_type": "stream",
     "text": [
      "/home/sonhn/learning/datascience/pyenv/lib/python3.9/site-packages/urllib3/connectionpool.py:1013: InsecureRequestWarning: Unverified HTTPS request is being made to host 'app.zipcodebase.com'. Adding certificate verification is strongly advised. See: https://urllib3.readthedocs.io/en/1.26.x/advanced-usage.html#ssl-warnings\n",
      "  warnings.warn(\n"
     ]
    },
    {
     "name": "stdout",
     "output_type": "stream",
     "text": [
      "API request: https://app.zipcodebase.com/api/v1/search?codes=76645%2C54025%2C76052%2C65049%2C33410%2C75236%2C84124%2C54205%2C79925%2C96205%2C95682&country=US\n",
      "Result: {76645: 'TX', 54025: 'WI', 76052: 'TX', 65049: 'MO', 33410: 'FL', 75236: 'TX', 84124: 'UT', 54205: 'WI', 79925: 'TX', 96205: '', 95682: 'CA'}\n"
     ]
    }
   ],
   "source": [
    "cond = x_train['State'].isna()\n",
    "print('Missing State:')\n",
    "display(x_train.loc[cond, ['City', 'Zip', 'State']])\n",
    "\n",
    "zips = x_train.loc[cond, 'Zip']\n",
    "print('Find State from Zip:')\n",
    "zip_mapping = zip_to_state(zips, API_KEY)\n",
    "print('Result:', zip_mapping)\n",
    "\n",
    "x = pd.DataFrame({'State': state_imputer(x_train, zip_mapping),\n",
    "                  'Recession': recession})"
   ]
  },
  {
   "cell_type": "code",
   "execution_count": null,
   "id": "7768b149-cfbd-417d-888d-c989336d4da7",
   "metadata": {
    "id": "7768b149-cfbd-417d-888d-c989336d4da7",
    "outputId": "9921a4a0-4d58-4bb9-b928-6cbc7f244fc7"
   },
   "outputs": [
    {
     "data": {
      "image/png": "[encoded data removed]",
      "text/plain": [
       "<Figure size 864x576 with 2 Axes>"
      ]
     },
     "metadata": {
      "needs_background": "light"
     },
     "output_type": "display_data"
    }
   ],
   "source": [
    "def plot_states_data(feature, x, y, vmin=None, vmax=None):\n",
    "    state_rate = target_rate_by_feature(x[feature],\n",
    "                                        y_train)\n",
    "    state_rate = state_rate[POSITIVE]\n",
    "\n",
    "    plot_geospartial(state_rate,\n",
    "                     (12, 8),\n",
    "                     cmap='OrRd',\n",
    "                     title=f'{POSITIVE} rate by {feature} (no Recession)',\n",
    "                     vmin=vmin,\n",
    "                     vmax=vmax)\n",
    "\n",
    "plot_states_data('State', x, y_train, vmin=0.0, vmax=0.3)\n",
    "plt.savefig('chart/state.png')\n",
    "plt.show()"
   ]
  },
  {
   "cell_type": "markdown",
   "id": "62c175bd-6827-4b0c-9df0-3dff9f2a7846",
   "metadata": {
    "id": "62c175bd-6827-4b0c-9df0-3dff9f2a7846"
   },
   "source": [
    "### Bank, BankState (ngân hàng, bang của ngân hàng)\n",
    "\n",
    "Tỷ lệ CHGOFF giữa các BankState cũng có sự khác biệt"
   ]
  },
  {
   "cell_type": "code",
   "execution_count": null,
   "id": "4b968ab9-d92b-48f1-b05f-74e0be4e794c",
   "metadata": {
    "id": "4b968ab9-d92b-48f1-b05f-74e0be4e794c",
    "outputId": "305cb027-f90b-4c1f-fe21-9b9f90087924",
    "tags": []
   },
   "outputs": [
    {
     "data": {
      "image/png": "[encoded data removed]",
      "text/plain": [
       "<Figure size 864x576 with 2 Axes>"
      ]
     },
     "metadata": {
      "needs_background": "light"
     },
     "output_type": "display_data"
    }
   ],
   "source": [
    "x = pd.DataFrame({'BankState': x_train['BankState'],\n",
    "                  'Recession': recession})\n",
    "\n",
    "plot_states_data('BankState', x, y_train, vmin=0.0, vmax=0.4)\n",
    "plt.savefig('chart/bankstate.png')\n",
    "plt.show()"
   ]
  },
  {
   "cell_type": "markdown",
   "id": "09d270d9-a71d-4457-ba8b-4fea506ff4b9",
   "metadata": {
    "id": "09d270d9-a71d-4457-ba8b-4fea506ff4b9",
    "tags": []
   },
   "source": [
    "### NAICS (mã ngành)\n",
    "\n",
    "* Có khoảng 150.000 trường hợp thiếu dữ liệu mã ngành (=0).\n",
    "* 2 ký tự đầu cột này được code từ 11 - 92 cho mỗi ngành, tổng cộng 24 loại theo bảng tham số naics.csv.\n",
    "* Thực hiện nhóm các ngành thành nhóm ngành (ví dụ 31, 32, 33 cùng nhóm Manufacturing).\n",
    "* Các nhóm ngành khác nhau có mức độ rủi ro khác nhau có tỷ lệ CHGOFF sẽ khác nhau.\n",
    "* Trong thời kỳ suy thoái, sự thay đổi tỷ lệ CHGOFF là khác nhau giữa các ngành (ví dụ Public Administration có tỷ lệ CGHOFF tăng mạnh)"
   ]
  },
  {
   "cell_type": "code",
   "execution_count": 9,
   "id": "7a19e483-fb7d-486b-af4e-37c2a6701da2",
   "metadata": {
    "colab": {
     "base_uri": "https://localhost:8080/",
     "height": 407
    },
    "id": "7a19e483-fb7d-486b-af4e-37c2a6701da2",
    "outputId": "89034d6e-34f7-4fd0-9f46-fbbdf02a927f",
    "tags": []
   },
   "outputs": [
    {
     "name": "stdout",
     "output_type": "stream",
     "text": [
      "NAICS mapping:\n"
     ]
    },
    {
     "data": {
      "text/html": [
       "<div>\n",
       "<style scoped>\n",
       "    .dataframe tbody tr th:only-of-type {\n",
       "        vertical-align: middle;\n",
       "    }\n",
       "\n",
       "    .dataframe tbody tr th {\n",
       "        vertical-align: top;\n",
       "    }\n",
       "\n",
       "    .dataframe thead th {\n",
       "        text-align: right;\n",
       "    }\n",
       "</style>\n",
       "<table border=\"1\" class=\"dataframe\">\n",
       "  <thead>\n",
       "    <tr style=\"text-align: right;\">\n",
       "      <th></th>\n",
       "      <th>IndustryCode</th>\n",
       "      <th>Description</th>\n",
       "    </tr>\n",
       "    <tr>\n",
       "      <th>NAICS</th>\n",
       "      <th></th>\n",
       "      <th></th>\n",
       "    </tr>\n",
       "  </thead>\n",
       "  <tbody>\n",
       "    <tr>\n",
       "      <th>0</th>\n",
       "      <td>0</td>\n",
       "      <td>Missing</td>\n",
       "    </tr>\n",
       "    <tr>\n",
       "      <th>11</th>\n",
       "      <td>1</td>\n",
       "      <td>Agriculture, forestry, fishing and hunting</td>\n",
       "    </tr>\n",
       "    <tr>\n",
       "      <th>21</th>\n",
       "      <td>2</td>\n",
       "      <td>Mining, quarrying, and oil and gas extraction</td>\n",
       "    </tr>\n",
       "    <tr>\n",
       "      <th>22</th>\n",
       "      <td>3</td>\n",
       "      <td>Utilities</td>\n",
       "    </tr>\n",
       "    <tr>\n",
       "      <th>23</th>\n",
       "      <td>4</td>\n",
       "      <td>Construction</td>\n",
       "    </tr>\n",
       "    <tr>\n",
       "      <th>31</th>\n",
       "      <td>5</td>\n",
       "      <td>Manufacturing</td>\n",
       "    </tr>\n",
       "    <tr>\n",
       "      <th>32</th>\n",
       "      <td>5</td>\n",
       "      <td>Manufacturing</td>\n",
       "    </tr>\n",
       "    <tr>\n",
       "      <th>33</th>\n",
       "      <td>5</td>\n",
       "      <td>Manufacturing</td>\n",
       "    </tr>\n",
       "    <tr>\n",
       "      <th>42</th>\n",
       "      <td>6</td>\n",
       "      <td>Wholesale trade</td>\n",
       "    </tr>\n",
       "    <tr>\n",
       "      <th>44</th>\n",
       "      <td>7</td>\n",
       "      <td>Retail trade</td>\n",
       "    </tr>\n",
       "  </tbody>\n",
       "</table>\n",
       "</div>"
      ],
      "text/plain": [
       "       IndustryCode                                    Description\n",
       "NAICS                                                             \n",
       "0                 0                                        Missing\n",
       "11                1     Agriculture, forestry, fishing and hunting\n",
       "21                2  Mining, quarrying, and oil and gas extraction\n",
       "22                3                                      Utilities\n",
       "23                4                                   Construction\n",
       "31                5                                  Manufacturing\n",
       "32                5                                  Manufacturing\n",
       "33                5                                  Manufacturing\n",
       "42                6                                Wholesale trade\n",
       "44                7                                   Retail trade"
      ]
     },
     "metadata": {},
     "output_type": "display_data"
    }
   ],
   "source": [
    "# Get NAICS mapping\n",
    "naics_map_df = pd.read_csv('data/naics.csv', index_col=0)\n",
    "NAICS_CODES = naics_map_df['IndustryCode']\n",
    "print('NAICS mapping:')\n",
    "display(naics_map_df.head(10))\n",
    "\n",
    "INDUSTRY_DESC = naics_map_df.groupby('IndustryCode').agg('first').iloc[:, 0]"
   ]
  },
  {
   "cell_type": "code",
   "execution_count": null,
   "id": "5f44d0a7-9f4f-4b07-b0c2-5a01bc5d213a",
   "metadata": {
    "id": "5f44d0a7-9f4f-4b07-b0c2-5a01bc5d213a",
    "outputId": "3af7b97f-8d1e-49dc-e1cc-a6f8798fe4fb",
    "tags": []
   },
   "outputs": [
    {
     "name": "stdout",
     "output_type": "stream",
     "text": [
      "Missing industry counts:\n"
     ]
    },
    {
     "data": {
      "text/plain": [
       "False    486384\n",
       "True     150871\n",
       "Name: Industry, dtype: int64"
      ]
     },
     "metadata": {},
     "output_type": "display_data"
    },
    {
     "data": {
      "image/png": "[encoded data removed]",
      "text/plain": [
       "<Figure size 576x1152 with 1 Axes>"
      ]
     },
     "metadata": {
      "needs_background": "light"
     },
     "output_type": "display_data"
    }
   ],
   "source": [
    "# Plot industries\n",
    "x = x_train['NAICS'].map(lambda x: int(str(x)[:2])).map(NAICS_CODES)\n",
    "x.name = 'Industry'\n",
    "\n",
    "print('Missing industry counts:')\n",
    "cond = (x==0)\n",
    "display(cond.value_counts())\n",
    "\n",
    "industry = target_rate_by_feature(x[~recession],\n",
    "                                  y_train[~recession])\n",
    "industry = industry[POSITIVE]\n",
    "\n",
    "industry_recession = target_rate_by_feature(x[recession],\n",
    "                                            y_train[recession])\n",
    "industry_recession = industry_recession[POSITIVE]\n",
    "\n",
    "industry_df = pd.concat([industry,\n",
    "                         industry_recession],\n",
    "                        axis='columns')\n",
    "industry_df.index = industry_df.index.astype(np.int64).map(INDUSTRY_DESC)\n",
    "industry_df.columns = ['No recession', 'Recession']\n",
    "industry_df = industry_df.sort_values('No recession')\n",
    "y = np.arange(industry_df.shape[0])\n",
    "plt.figure(figsize=(8, 16))\n",
    "plt.barh(y - 0.2, industry_df['No recession'], height=0.4)\n",
    "plt.barh(y + 0.2, industry_df['Recession'], height=0.4)\n",
    "plt.yticks(y, industry_df.index)\n",
    "plt.title(f'{POSITIVE} rate by NAICS')\n",
    "plt.legend(industry_df.columns)\n",
    "plt.show()"
   ]
  },
  {
   "cell_type": "markdown",
   "id": "0f7eb232-6512-4d99-b087-70f29cc30bbf",
   "metadata": {
    "id": "0f7eb232-6512-4d99-b087-70f29cc30bbf"
   },
   "source": [
    "### NewExist (Khách hàng là doanh nghiệp mới)"
   ]
  },
  {
   "cell_type": "markdown",
   "id": "4a60a50f-b3d8-4000-aedc-4d4a2b81117b",
   "metadata": {
    "id": "4a60a50f-b3d8-4000-aedc-4d4a2b81117b"
   },
   "source": [
    "* Định nghĩa Khách hàng mới:\n",
    "    * Khách hàng thành lập trên 2 năm: Giá trị 1\n",
    "    * Khách hàng thành lập từ 2 năm trở xuống: Giá trị 2\n",
    "    * Thiếu dữ liệu: Giá trị 0\n",
    "* Qua quan sát biểu đồ thì biến này không có ảnh hưởng nhiều tới kết quả.\n",
    "* Có 709 trường hợp thiếu dữ liệu có thể gán bằng 1 (giá trị mode)"
   ]
  },
  {
   "cell_type": "code",
   "execution_count": null,
   "id": "b8347160-c5fd-456c-8881-d974f41c1eb5",
   "metadata": {
    "id": "b8347160-c5fd-456c-8881-d974f41c1eb5",
    "outputId": "8715fa9e-8947-4a45-8893-716d5b3d2882",
    "tags": []
   },
   "outputs": [
    {
     "name": "stdout",
     "output_type": "stream",
     "text": [
      "NewExist counts:\n"
     ]
    },
    {
     "data": {
      "text/plain": [
       "1.0    457559\n",
       "2.0    178936\n",
       "0.0       760\n",
       "Name: NewExist, dtype: int64"
      ]
     },
     "metadata": {},
     "output_type": "display_data"
    },
    {
     "data": {
      "image/png": "[encoded data removed]",
      "text/plain": [
       "<Figure size 432x288 with 1 Axes>"
      ]
     },
     "metadata": {
      "needs_background": "light"
     },
     "output_type": "display_data"
    }
   ],
   "source": [
    "print('NewExist counts:')\n",
    "display(x_train['NewExist'].value_counts(dropna=False))\n",
    "\n",
    "new_exist = x_train['NewExist'].fillna(0)\n",
    "cond = (new_exist != 0)\n",
    "counts = pd.DataFrame(y_train[cond]).pivot_table(index=y_train[cond],\n",
    "                                                 columns=new_exist[cond],\n",
    "                                                 values=y_train.name,\n",
    "                                                 aggfunc='count')\n",
    "portions = counts / counts.sum()\n",
    "plot_stacked_bars(portions)\n",
    "plt.show()"
   ]
  },
  {
   "cell_type": "markdown",
   "id": "f65124f1-9b76-430e-a4e8-b23d4dc3b062",
   "metadata": {
    "id": "f65124f1-9b76-430e-a4e8-b23d4dc3b062"
   },
   "source": [
    "### NoEmp (Số lao động)\n",
    "\n",
    "* Có khoảng 3300 trường hợp số lao động bằng không có thể thay thế bằng giá trị median\n",
    "* Phân phối lệch phải. Thực hiện biến đổi log, qua biểu đồ trực quan hoá có thể thấy các khoản vay PIF thì Khách hàng có nhiều lao động hơn khoản vay CHGOFF (Quy mô lớn hơn thì có khả năng trả nợ tốt hơn)."
   ]
  },
  {
   "cell_type": "code",
   "execution_count": null,
   "id": "92c55eba-9d15-408b-96d2-977d79a14e44",
   "metadata": {
    "id": "92c55eba-9d15-408b-96d2-977d79a14e44",
    "outputId": "a35312f1-b04c-4cb9-9d58-6fcf9e63a1b1"
   },
   "outputs": [
    {
     "name": "stdout",
     "output_type": "stream",
     "text": [
      "Zero employment counts:\n"
     ]
    },
    {
     "data": {
      "text/plain": [
       "False    633939\n",
       "True       3316\n",
       "Name: NoEmp, dtype: int64"
      ]
     },
     "metadata": {},
     "output_type": "display_data"
    },
    {
     "data": {
      "image/png": "[encoded data removed]",
      "text/plain": [
       "<Figure size 1080x288 with 3 Axes>"
      ]
     },
     "metadata": {
      "needs_background": "light"
     },
     "output_type": "display_data"
    }
   ],
   "source": [
    "emp = x_train['NoEmp'].copy()\n",
    "print('Zero employment counts:')\n",
    "cond = (emp==0)\n",
    "display(cond.value_counts())\n",
    "\n",
    "emp[cond] = emp.median()\n",
    "\n",
    "plot_hist_and_boxplot(emp,\n",
    "                      np.log(emp),\n",
    "                      y_train,\n",
    "                      LABELS)\n",
    "\n",
    "plt.savefig('chart/noemp.png')\n",
    "plt.show()"
   ]
  },
  {
   "cell_type": "markdown",
   "id": "f769e6a6-2c32-459f-8344-2429f92b9e67",
   "metadata": {
    "id": "f769e6a6-2c32-459f-8344-2429f92b9e67"
   },
   "source": [
    "### FranchiseCode (Nhượng quyền)\n",
    "\n",
    "* Các giá trị:\n",
    "    * 0, 1: Không nhượng quyền\n",
    "    * Các giá trị khác: Có nhượng quyền\n",
    "* Qua quan sát biểu đồ thì biến này không có ảnh hưởng nhiều tới kết quả."
   ]
  },
  {
   "cell_type": "code",
   "execution_count": 10,
   "id": "8a2c5560-317e-4ae7-b174-6dd022620742",
   "metadata": {
    "id": "8a2c5560-317e-4ae7-b174-6dd022620742",
    "outputId": "576d4019-57bd-46b0-aef8-9df01d236631",
    "tags": []
   },
   "outputs": [
    {
     "name": "stdout",
     "output_type": "stream",
     "text": [
      "FranchiseCode counts:\n"
     ]
    },
    {
     "data": {
      "text/plain": [
       "1        476766\n",
       "0        123334\n",
       "78760      2418\n",
       "68020      1420\n",
       "50564       773\n",
       "          ...  \n",
       "84463         1\n",
       "78240         1\n",
       "6130          1\n",
       "55427         1\n",
       "47854         1\n",
       "Name: FranchiseCode, Length: 2418, dtype: int64"
      ]
     },
     "metadata": {},
     "output_type": "display_data"
    },
    {
     "data": {
      "image/png": "[encoded data removed]",
      "text/plain": [
       "<Figure size 432x288 with 1 Axes>"
      ]
     },
     "metadata": {
      "needs_background": "light"
     },
     "output_type": "display_data"
    }
   ],
   "source": [
    "franchise = x_train['FranchiseCode']\n",
    "print('FranchiseCode counts:')\n",
    "display(franchise.value_counts())\n",
    "\n",
    "franchise = (franchise > 1)\n",
    "counts = pd.DataFrame(y_train).pivot_table(index=y_train,\n",
    "                                           columns=franchise,\n",
    "                                           values=y_train.name,\n",
    "                                           aggfunc='count')\n",
    "portions = counts / counts.sum()\n",
    "plot_stacked_bars(portions)\n",
    "plt.savefig('chart/franchise.png')\n",
    "plt.show()"
   ]
  },
  {
   "cell_type": "markdown",
   "id": "ca85a131-6751-4467-a2ea-52f4020c1e8e",
   "metadata": {
    "id": "ca85a131-6751-4467-a2ea-52f4020c1e8e"
   },
   "source": [
    "### UrbanRural (Đô thị, nông thôn)\n",
    "\n",
    "* Các giá trị:\n",
    "    * 1: Đô thị\n",
    "    * 2: Nông thôn\n",
    "    * 0: Không xác định\n",
    "* Số lượng quan sát không xác định (0) là lớn (khoảng 240.000)"
   ]
  },
  {
   "cell_type": "code",
   "execution_count": 11,
   "id": "da444acf-d0bf-4c64-b2b4-7d889b49f200",
   "metadata": {
    "id": "da444acf-d0bf-4c64-b2b4-7d889b49f200",
    "outputId": "9b2759f8-5d8a-4615-cf28-9a2f28f9467d",
    "tags": []
   },
   "outputs": [
    {
     "name": "stdout",
     "output_type": "stream",
     "text": [
      "UrbanRural counts:\n"
     ]
    },
    {
     "data": {
      "text/plain": [
       "1    324343\n",
       "0    241858\n",
       "2     71054\n",
       "Name: UrbanRural, dtype: int64"
      ]
     },
     "metadata": {},
     "output_type": "display_data"
    },
    {
     "data": {
      "image/png": "[encoded data removed]",
      "text/plain": [
       "<Figure size 432x288 with 1 Axes>"
      ]
     },
     "metadata": {
      "needs_background": "light"
     },
     "output_type": "display_data"
    }
   ],
   "source": [
    "urban_rural = x_train['UrbanRural']\n",
    "print('UrbanRural counts:')\n",
    "display(urban_rural.value_counts())\n",
    "cond = (urban_rural>0)\n",
    "\n",
    "counts = pd.DataFrame(y_train[cond]).pivot_table(index=y_train[cond],\n",
    "                                                 columns=urban_rural[cond],\n",
    "                                                 values=y_train.name,\n",
    "                                                 aggfunc='count')\n",
    "portions = counts / counts.sum()\n",
    "plot_stacked_bars(portions)\n",
    "plt.savefig('chart/urbanrural.png')\n",
    "plt.show()"
   ]
  },
  {
   "cell_type": "markdown",
   "id": "4588769f-741d-449f-b917-506074ec95ad",
   "metadata": {
    "id": "4588769f-741d-449f-b917-506074ec95ad"
   },
   "source": [
    "### RevLineCr (Vay tuần hoàn)\n",
    "\n",
    "* Các giá trị:\n",
    "    * Y: Có\n",
    "    * N: Không\n",
    "    * Khác: Lỗi, thiếu dữ liệu\n",
    "* Số lượng quan sát lỗi, thiếu dữ liệu là lớn (khoảng 200.000)"
   ]
  },
  {
   "cell_type": "code",
   "execution_count": 12,
   "id": "f30d99f2-5afb-4b24-8292-535cc32681c8",
   "metadata": {
    "id": "f30d99f2-5afb-4b24-8292-535cc32681c8",
    "outputId": "1e86ce23-3856-40ae-ac98-9f46bf0ad1d0",
    "tags": []
   },
   "outputs": [
    {
     "name": "stdout",
     "output_type": "stream",
     "text": [
      "RevLineCr counts:\n"
     ]
    },
    {
     "data": {
      "text/plain": [
       "N      293310\n",
       "0      192525\n",
       "Y      137340\n",
       "T       11012\n",
       "NaN      3017\n",
       "1          20\n",
       "R          13\n",
       "`           9\n",
       "2           2\n",
       "C           1\n",
       ",           1\n",
       "A           1\n",
       "7           1\n",
       "5           1\n",
       ".           1\n",
       "-           1\n",
       "Name: RevLineCr, dtype: int64"
      ]
     },
     "metadata": {},
     "output_type": "display_data"
    },
    {
     "data": {
      "image/png": "[encoded data removed]",
      "text/plain": [
       "<Figure size 432x288 with 1 Axes>"
      ]
     },
     "metadata": {
      "needs_background": "light"
     },
     "output_type": "display_data"
    }
   ],
   "source": [
    "rev_line_cr = x_train['RevLineCr']\n",
    "print('RevLineCr counts:')\n",
    "display(rev_line_cr.value_counts(dropna=False))\n",
    "cond = rev_line_cr.isin(['Y', 'N'])\n",
    "\n",
    "counts = pd.DataFrame(y_train[cond]).pivot_table(index=y_train[cond],\n",
    "                                                 columns=rev_line_cr[cond],\n",
    "                                                 values=y_train.name,\n",
    "                                                 aggfunc='count')\n",
    "portions = counts / counts.sum()\n",
    "plot_stacked_bars(portions)\n",
    "plt.savefig('chart/revlinecr.png')\n",
    "plt.show()"
   ]
  },
  {
   "cell_type": "markdown",
   "id": "f2ee9ba8-08e6-4c44-8682-ac14a18ecf04",
   "metadata": {
    "id": "f2ee9ba8-08e6-4c44-8682-ac14a18ecf04"
   },
   "source": [
    "### LowDoc (Vay ít hồ sơ)\n",
    "\n",
    "* Các giá trị:\n",
    "    * Y: Có\n",
    "    * N: Không\n",
    "    * Khác: Lỗi, thiếu dữ liệu\n",
    "* Các trường hợp lỗi, thiếu dữ liệu có thể gán bằng giá trị mode.\n",
    "* Các trường hợp vay LowDoc có tỷ lệ CHGOFF thấp hơn vay thông thường"
   ]
  },
  {
   "cell_type": "code",
   "execution_count": null,
   "id": "5cca7f5c-b7bd-4393-9891-33d43eb1de4a",
   "metadata": {
    "id": "5cca7f5c-b7bd-4393-9891-33d43eb1de4a",
    "outputId": "19c558ce-22de-4f7e-bbfb-ce3e3307aebd",
    "tags": []
   },
   "outputs": [
    {
     "name": "stdout",
     "output_type": "stream",
     "text": [
      "LowDoc counts:\n"
     ]
    },
    {
     "data": {
      "text/plain": [
       "N      551335\n",
       "Y       82699\n",
       "0        1115\n",
       "NaN       907\n",
       "C         559\n",
       "A         343\n",
       "S         257\n",
       "R          39\n",
       "1           1\n",
       "Name: LowDoc, dtype: int64"
      ]
     },
     "metadata": {},
     "output_type": "display_data"
    },
    {
     "data": {
      "image/png": "[encoded data removed]",
      "text/plain": [
       "<Figure size 432x288 with 1 Axes>"
      ]
     },
     "metadata": {
      "needs_background": "light"
     },
     "output_type": "display_data"
    }
   ],
   "source": [
    "low_doc = x_train['LowDoc']\n",
    "print('LowDoc counts:')\n",
    "display(low_doc.value_counts(dropna=False))\n",
    "cond = low_doc.isin(['Y', 'N'])\n",
    "\n",
    "counts = pd.DataFrame(y_train[cond]).pivot_table(index=y_train[cond],\n",
    "                                                 columns=low_doc[cond],\n",
    "                                                 values=y_train.name,\n",
    "                                                 aggfunc='count')\n",
    "portions = counts / counts.sum()\n",
    "plot_stacked_bars(portions)\n",
    "plt.savefig('chart/lowdoc.png')\n",
    "plt.show()"
   ]
  },
  {
   "cell_type": "markdown",
   "id": "6075904b-58a3-4336-8a1f-cc596e478e6a",
   "metadata": {
    "id": "6075904b-58a3-4336-8a1f-cc596e478e6a",
    "tags": []
   },
   "source": [
    "# Chuẩn bị dữ liệu"
   ]
  },
  {
   "cell_type": "markdown",
   "id": "0a340c90-1cf3-4a6e-9742-97fe715015a0",
   "metadata": {
    "id": "0a340c90-1cf3-4a6e-9742-97fe715015a0"
   },
   "source": [
    "## Xây dựng pipeline"
   ]
  },
  {
   "cell_type": "code",
   "execution_count": 8,
   "id": "11e3af1f-4feb-499b-b60c-eb43f736cded",
   "metadata": {
    "id": "11e3af1f-4feb-499b-b60c-eb43f736cded"
   },
   "outputs": [],
   "source": [
    "from sklearn.compose import ColumnTransformer\n",
    "from sklearn.preprocessing import FunctionTransformer, MinMaxScaler, OneHotEncoder\n",
    "from sklearn.pipeline import Pipeline\n",
    "from sklearn.compose import ColumnTransformer\n",
    "from sklearn.feature_selection import RFECV\n",
    "from sklearn.linear_model import LogisticRegression\n",
    "from sklearn.model_selection import KFold\n",
    "\n",
    "kfold = KFold(5)\n",
    "\n",
    "def amount_transformer_func(x):\n",
    "    x = amount_value(x)\n",
    "    x['DisbursementGross'] = np.log(x['DisbursementGross'])\n",
    "    x['SBA_Appv_Ratio'] = x['SBA_Appv'] / x ['GrAppv']\n",
    "    return x[['DisbursementGross', 'SBA_Appv_Ratio']]\n",
    "\n",
    "def date_transformer_func(x):\n",
    "    x = x.copy()\n",
    "    x[['DisbursementDate']] = date_value(x[['DisbursementDate']], max_year=2020)\n",
    "    cond = (x['Term']==0)\n",
    "    x.loc[cond, 'Term'] = x['Term'].mode()[0]\n",
    "    x['Recession'] = mature_between(x['DisbursementDate'],\n",
    "                                    x['Term'],\n",
    "                                    '2007-12-01',\n",
    "                                    '2009-06-30')\n",
    "    x['Recession'] = x['Recession'].astype('int')\n",
    "    x['ChgOffHist'] = x['ChgOffHist'].astype('int')\n",
    "\n",
    "    return x[['Term', 'Recession', 'ChgOffHist']]\n",
    "\n",
    "def state_transformer_func(x):\n",
    "    states = x['State'] \n",
    "    cond = states.isna()\n",
    "    zips = x.loc[cond, 'Zip']\n",
    "    if len(zips) > 0:\n",
    "        zip_mapping = zip_to_state(zips, API_KEY)\n",
    "        states = state_imputer(x, zip_mapping)\n",
    "    bankstates = x['BankState'].copy()\n",
    "    cond = bankstates.isna()\n",
    "    bankstates[cond] = bankstates.mode()[0]\n",
    "    df = pd.DataFrame({'State': states,\n",
    "                       'BankState': bankstates})\n",
    "    return df\n",
    "\n",
    "def industry_transformer_func(x):\n",
    "    industry = x['NAICS'].map(lambda x: int(str(x)[:2])).map(NAICS_CODES)\n",
    "    df = pd.DataFrame({'Industry': industry})\n",
    "    return df\n",
    "\n",
    "def noemp_transformer_func(x):\n",
    "    x = x.copy()\n",
    "    cond = (x['NoEmp']==0)\n",
    "    x.loc[cond, 'NoEmp'] = x['NoEmp'].median()\n",
    "    x['NoEmp'] = np.log(x['NoEmp'])\n",
    "    return x[['NoEmp']]\n",
    "\n",
    "def lowdoc_transformer_func(x):\n",
    "    x = x.copy()\n",
    "    cond = x['LowDoc'].isna()\n",
    "    x.loc[cond, 'LowDoc'] = x['LowDoc'].mode()[0]\n",
    "    x['LowDoc'] = (x['LowDoc'] == 'Y').astype(np.int64)\n",
    "    return x[['LowDoc']]\n",
    "\n",
    "def franchise_code_transformer_func(x):\n",
    "    x = x.copy()\n",
    "    x['FranchiseCode'] = (~x['FranchiseCode'].isin([0, 1])).astype('int')\n",
    "    return x[['FranchiseCode']]\n",
    "\n",
    "def newexist_transformer_func(x):\n",
    "    x = x.copy()\n",
    "    cond = (x['NewExist']==0)\n",
    "    x.loc[cond, 'NewExist'] = x['NewExist'].mode()[0]\n",
    "    x['NewExist'] = (x['NewExist']==2).astype('int')\n",
    "    return x[['NewExist']]\n",
    "\n",
    "def revlinecr_transformer_func(x):\n",
    "    x = x.copy()\n",
    "    cond = ~x['RevLineCr'].isin(['Y', 'N'])\n",
    "    x.loc[cond, 'RevLineCr'] = 'U'\n",
    "    return x[['RevLineCr']]\n",
    "    \n",
    "stage1 = ColumnTransformer([\n",
    "    ('amount_transformer', FunctionTransformer(amount_transformer_func), ['DisbursementGross', 'SBA_Appv', 'GrAppv']),\n",
    "    ('date_transformer', FunctionTransformer(date_transformer_func), ['DisbursementDate', 'ApprovalDate', 'Term', 'ChgOffHist']),\n",
    "    ('state_transformer', FunctionTransformer(state_transformer_func), ['State', 'City', 'Zip', 'BankState']),\n",
    "    ('industry_transformer', FunctionTransformer(industry_transformer_func), ['NAICS']),\n",
    "    ('noemp_transformer', FunctionTransformer(noemp_transformer_func), ['NoEmp']),\n",
    "    ('lowdoc_transformer', FunctionTransformer(lowdoc_transformer_func), ['LowDoc']),\n",
    "    ('franchise_transformer', FunctionTransformer(franchise_code_transformer_func),['FranchiseCode']),\n",
    "    ('newexist_transformer', FunctionTransformer(newexist_transformer_func),['NewExist']),\n",
    "    ('revlinecr_transformer', FunctionTransformer(revlinecr_transformer_func),['RevLineCr']),\n",
    "    ('urbanrural', 'passthrough', ['UrbanRural'])\n",
    "])\n",
    "\n",
    "stage2 = ColumnTransformer([\n",
    "        ('scaler', MinMaxScaler(), [0, 2, 8]),\n",
    "        ('encode_state', OneHotEncoder(), [5, 6]),\n",
    "        ('encode_industry', OneHotEncoder(), [7]),\n",
    "        ('encode_revlinecr', OneHotEncoder(), [12]),\n",
    "        ('encode_urbanrural', OneHotEncoder(), [13])\n",
    "    ],\n",
    "    remainder='passthrough'\n",
    ")\n",
    "\n",
    "stage3 = FunctionTransformer(lambda x: x.astype(np.float32))\n",
    "\n",
    "stage4 = RFECV(LogisticRegression(solver='lbfgs', max_iter=400, n_jobs=-1, tol=0.0002),\n",
    "               min_features_to_select=1,\n",
    "               step=1,\n",
    "               cv=kfold,\n",
    "               scoring='f1',\n",
    "               verbose=1)\n",
    "\n",
    "x_pipeline = Pipeline([\n",
    "    ('stage1', stage1),\n",
    "    ('stage2', stage2),\n",
    "    ('stage3', stage3),\n",
    "    ('stage4', stage4)\n",
    "])\n",
    "\n",
    "y_pipeline = FunctionTransformer(lambda x: (x==POSITIVE).astype('int'))"
   ]
  },
  {
   "cell_type": "markdown",
   "id": "be8bb480-39e1-4d18-9b3a-396859884471",
   "metadata": {
    "id": "be8bb480-39e1-4d18-9b3a-396859884471"
   },
   "source": [
    "## Xử lý dữ liệu"
   ]
  },
  {
   "cell_type": "code",
   "execution_count": 9,
   "id": "8f556242-a73a-4e96-8c91-1eafcc43cab8",
   "metadata": {
    "id": "8f556242-a73a-4e96-8c91-1eafcc43cab8"
   },
   "outputs": [],
   "source": [
    "y_train_processed = y_pipeline.fit_transform(y_train)\n",
    "y_test_processed = y_pipeline.transform(y_test)"
   ]
  },
  {
   "cell_type": "code",
   "execution_count": 12,
   "id": "4ba13d31-fc99-45d1-a124-86339d221b26",
   "metadata": {
    "colab": {
     "base_uri": "https://localhost:8080/"
    },
    "collapsed": true,
    "id": "4ba13d31-fc99-45d1-a124-86339d221b26",
    "jupyter": {
     "outputs_hidden": true
    },
    "outputId": "ac5f67fb-c7ea-40f7-9c04-6e893212feea",
    "tags": []
   },
   "outputs": [
    {
     "name": "stderr",
     "output_type": "stream",
     "text": [
      "/home/sonhn/learning/datascience/pyenv/lib/python3.9/site-packages/pandas/core/arrays/datetimelike.py:1187: PerformanceWarning: Adding/subtracting object-dtype array to DatetimeArray not vectorized\n",
      "  warnings.warn(\n",
      "/home/sonhn/learning/datascience/pyenv/lib/python3.9/site-packages/urllib3/connectionpool.py:1013: InsecureRequestWarning: Unverified HTTPS request is being made to host 'app.zipcodebase.com'. Adding certificate verification is strongly advised. See: https://urllib3.readthedocs.io/en/1.26.x/advanced-usage.html#ssl-warnings\n",
      "  warnings.warn(\n"
     ]
    },
    {
     "name": "stdout",
     "output_type": "stream",
     "text": [
      "API request: https://app.zipcodebase.com/api/v1/search?codes=76645%2C54025%2C76052%2C65049%2C33410%2C75236%2C84124%2C54205%2C79925%2C96205%2C95682&country=US\n",
      "Fitting estimator with 143 features.\n",
      "Fitting estimator with 142 features.\n",
      "Fitting estimator with 141 features.\n",
      "Fitting estimator with 140 features.\n",
      "Fitting estimator with 139 features.\n",
      "Fitting estimator with 138 features.\n",
      "Fitting estimator with 137 features.\n",
      "Fitting estimator with 136 features.\n",
      "Fitting estimator with 135 features.\n",
      "Fitting estimator with 134 features.\n",
      "Fitting estimator with 133 features.\n",
      "Fitting estimator with 132 features.\n",
      "Fitting estimator with 131 features.\n",
      "Fitting estimator with 130 features.\n",
      "Fitting estimator with 129 features.\n",
      "Fitting estimator with 128 features.\n",
      "Fitting estimator with 127 features.\n",
      "Fitting estimator with 126 features.\n",
      "Fitting estimator with 125 features.\n",
      "Fitting estimator with 124 features.\n",
      "Fitting estimator with 123 features.\n",
      "Fitting estimator with 122 features.\n",
      "Fitting estimator with 121 features.\n",
      "Fitting estimator with 120 features.\n",
      "Fitting estimator with 119 features.\n",
      "Fitting estimator with 118 features.\n",
      "Fitting estimator with 117 features.\n",
      "Fitting estimator with 116 features.\n",
      "Fitting estimator with 115 features.\n",
      "Fitting estimator with 114 features.\n",
      "Fitting estimator with 113 features.\n",
      "Fitting estimator with 112 features.\n",
      "Fitting estimator with 111 features.\n",
      "Fitting estimator with 110 features.\n",
      "Fitting estimator with 109 features.\n",
      "Fitting estimator with 108 features.\n",
      "Fitting estimator with 107 features.\n",
      "Fitting estimator with 106 features.\n",
      "Fitting estimator with 105 features.\n",
      "Fitting estimator with 104 features.\n",
      "Fitting estimator with 103 features.\n",
      "Fitting estimator with 102 features.\n",
      "Fitting estimator with 101 features.\n",
      "Fitting estimator with 100 features.\n",
      "Fitting estimator with 99 features.\n",
      "Fitting estimator with 98 features.\n",
      "Fitting estimator with 97 features.\n",
      "Fitting estimator with 96 features.\n",
      "Fitting estimator with 95 features.\n",
      "Fitting estimator with 94 features.\n",
      "Fitting estimator with 93 features.\n",
      "Fitting estimator with 92 features.\n",
      "Fitting estimator with 91 features.\n",
      "Fitting estimator with 90 features.\n",
      "Fitting estimator with 89 features.\n",
      "Fitting estimator with 88 features.\n",
      "Fitting estimator with 87 features.\n",
      "Fitting estimator with 86 features.\n",
      "Fitting estimator with 85 features.\n",
      "Fitting estimator with 84 features.\n",
      "Fitting estimator with 83 features.\n",
      "Fitting estimator with 82 features.\n",
      "Fitting estimator with 81 features.\n",
      "Fitting estimator with 80 features.\n",
      "Fitting estimator with 79 features.\n",
      "Fitting estimator with 78 features.\n",
      "Fitting estimator with 77 features.\n",
      "Fitting estimator with 76 features.\n",
      "Fitting estimator with 75 features.\n",
      "Fitting estimator with 74 features.\n",
      "Fitting estimator with 73 features.\n",
      "Fitting estimator with 72 features.\n",
      "Fitting estimator with 71 features.\n",
      "Fitting estimator with 70 features.\n",
      "Fitting estimator with 69 features.\n",
      "Fitting estimator with 68 features.\n",
      "Fitting estimator with 67 features.\n",
      "Fitting estimator with 66 features.\n",
      "Fitting estimator with 65 features.\n",
      "Fitting estimator with 64 features.\n",
      "Fitting estimator with 63 features.\n",
      "Fitting estimator with 62 features.\n",
      "Fitting estimator with 61 features.\n",
      "Fitting estimator with 60 features.\n",
      "Fitting estimator with 59 features.\n",
      "Fitting estimator with 58 features.\n",
      "Fitting estimator with 57 features.\n",
      "Fitting estimator with 56 features.\n",
      "Fitting estimator with 55 features.\n",
      "Fitting estimator with 54 features.\n",
      "Fitting estimator with 53 features.\n",
      "Fitting estimator with 52 features.\n",
      "Fitting estimator with 51 features.\n",
      "Fitting estimator with 50 features.\n",
      "Fitting estimator with 49 features.\n",
      "Fitting estimator with 48 features.\n",
      "Fitting estimator with 47 features.\n",
      "Fitting estimator with 46 features.\n",
      "Fitting estimator with 45 features.\n",
      "Fitting estimator with 44 features.\n",
      "Fitting estimator with 43 features.\n",
      "Fitting estimator with 42 features.\n",
      "Fitting estimator with 41 features.\n",
      "Fitting estimator with 40 features.\n",
      "Fitting estimator with 39 features.\n",
      "Fitting estimator with 38 features.\n",
      "Fitting estimator with 37 features.\n",
      "Fitting estimator with 36 features.\n",
      "Fitting estimator with 35 features.\n",
      "Fitting estimator with 34 features.\n",
      "Fitting estimator with 33 features.\n",
      "Fitting estimator with 32 features.\n",
      "Fitting estimator with 31 features.\n",
      "Fitting estimator with 30 features.\n",
      "Fitting estimator with 29 features.\n",
      "Fitting estimator with 28 features.\n",
      "Fitting estimator with 27 features.\n",
      "Fitting estimator with 26 features.\n",
      "Fitting estimator with 25 features.\n",
      "Fitting estimator with 24 features.\n",
      "Fitting estimator with 23 features.\n",
      "Fitting estimator with 22 features.\n",
      "Fitting estimator with 21 features.\n",
      "Fitting estimator with 20 features.\n",
      "Fitting estimator with 19 features.\n",
      "Fitting estimator with 18 features.\n",
      "Fitting estimator with 17 features.\n",
      "Fitting estimator with 16 features.\n",
      "Fitting estimator with 15 features.\n",
      "Fitting estimator with 14 features.\n",
      "Fitting estimator with 13 features.\n",
      "Fitting estimator with 12 features.\n",
      "Fitting estimator with 11 features.\n",
      "Fitting estimator with 10 features.\n",
      "Fitting estimator with 9 features.\n",
      "Fitting estimator with 8 features.\n",
      "Fitting estimator with 7 features.\n",
      "Fitting estimator with 6 features.\n",
      "Fitting estimator with 5 features.\n",
      "Fitting estimator with 4 features.\n",
      "Fitting estimator with 3 features.\n",
      "Fitting estimator with 2 features.\n",
      "Fitting estimator with 143 features.\n",
      "Fitting estimator with 142 features.\n",
      "Fitting estimator with 141 features.\n",
      "Fitting estimator with 140 features.\n",
      "Fitting estimator with 139 features.\n",
      "Fitting estimator with 138 features.\n",
      "Fitting estimator with 137 features.\n",
      "Fitting estimator with 136 features.\n",
      "Fitting estimator with 135 features.\n",
      "Fitting estimator with 134 features.\n",
      "Fitting estimator with 133 features.\n",
      "Fitting estimator with 132 features.\n",
      "Fitting estimator with 131 features.\n",
      "Fitting estimator with 130 features.\n",
      "Fitting estimator with 129 features.\n",
      "Fitting estimator with 128 features.\n",
      "Fitting estimator with 127 features.\n",
      "Fitting estimator with 126 features.\n",
      "Fitting estimator with 125 features.\n",
      "Fitting estimator with 124 features.\n",
      "Fitting estimator with 123 features.\n",
      "Fitting estimator with 122 features.\n",
      "Fitting estimator with 121 features.\n",
      "Fitting estimator with 120 features.\n",
      "Fitting estimator with 119 features.\n",
      "Fitting estimator with 118 features.\n",
      "Fitting estimator with 117 features.\n",
      "Fitting estimator with 116 features.\n",
      "Fitting estimator with 115 features.\n",
      "Fitting estimator with 114 features.\n",
      "Fitting estimator with 113 features.\n",
      "Fitting estimator with 112 features.\n",
      "Fitting estimator with 111 features.\n",
      "Fitting estimator with 110 features.\n",
      "Fitting estimator with 109 features.\n",
      "Fitting estimator with 108 features.\n",
      "Fitting estimator with 107 features.\n",
      "Fitting estimator with 106 features.\n",
      "Fitting estimator with 105 features.\n",
      "Fitting estimator with 104 features.\n",
      "Fitting estimator with 103 features.\n",
      "Fitting estimator with 102 features.\n",
      "Fitting estimator with 101 features.\n",
      "Fitting estimator with 100 features.\n",
      "Fitting estimator with 99 features.\n",
      "Fitting estimator with 98 features.\n",
      "Fitting estimator with 97 features.\n",
      "Fitting estimator with 96 features.\n",
      "Fitting estimator with 95 features.\n",
      "Fitting estimator with 94 features.\n",
      "Fitting estimator with 93 features.\n",
      "Fitting estimator with 92 features.\n",
      "Fitting estimator with 91 features.\n",
      "Fitting estimator with 90 features.\n",
      "Fitting estimator with 89 features.\n",
      "Fitting estimator with 88 features.\n",
      "Fitting estimator with 87 features.\n",
      "Fitting estimator with 86 features.\n",
      "Fitting estimator with 85 features.\n",
      "Fitting estimator with 84 features.\n",
      "Fitting estimator with 83 features.\n",
      "Fitting estimator with 82 features.\n",
      "Fitting estimator with 81 features.\n",
      "Fitting estimator with 80 features.\n",
      "Fitting estimator with 79 features.\n",
      "Fitting estimator with 78 features.\n",
      "Fitting estimator with 77 features.\n",
      "Fitting estimator with 76 features.\n",
      "Fitting estimator with 75 features.\n",
      "Fitting estimator with 74 features.\n",
      "Fitting estimator with 73 features.\n",
      "Fitting estimator with 72 features.\n",
      "Fitting estimator with 71 features.\n",
      "Fitting estimator with 70 features.\n",
      "Fitting estimator with 69 features.\n",
      "Fitting estimator with 68 features.\n",
      "Fitting estimator with 67 features.\n",
      "Fitting estimator with 66 features.\n",
      "Fitting estimator with 65 features.\n",
      "Fitting estimator with 64 features.\n",
      "Fitting estimator with 63 features.\n",
      "Fitting estimator with 62 features.\n",
      "Fitting estimator with 61 features.\n",
      "Fitting estimator with 60 features.\n",
      "Fitting estimator with 59 features.\n",
      "Fitting estimator with 58 features.\n",
      "Fitting estimator with 57 features.\n",
      "Fitting estimator with 56 features.\n",
      "Fitting estimator with 55 features.\n",
      "Fitting estimator with 54 features.\n",
      "Fitting estimator with 53 features.\n",
      "Fitting estimator with 52 features.\n",
      "Fitting estimator with 51 features.\n",
      "Fitting estimator with 50 features.\n",
      "Fitting estimator with 49 features.\n",
      "Fitting estimator with 48 features.\n",
      "Fitting estimator with 47 features.\n",
      "Fitting estimator with 46 features.\n",
      "Fitting estimator with 45 features.\n",
      "Fitting estimator with 44 features.\n",
      "Fitting estimator with 43 features.\n",
      "Fitting estimator with 42 features.\n",
      "Fitting estimator with 41 features.\n",
      "Fitting estimator with 40 features.\n",
      "Fitting estimator with 39 features.\n",
      "Fitting estimator with 38 features.\n",
      "Fitting estimator with 37 features.\n",
      "Fitting estimator with 36 features.\n",
      "Fitting estimator with 35 features.\n",
      "Fitting estimator with 34 features.\n",
      "Fitting estimator with 33 features.\n",
      "Fitting estimator with 32 features.\n",
      "Fitting estimator with 31 features.\n",
      "Fitting estimator with 30 features.\n",
      "Fitting estimator with 29 features.\n",
      "Fitting estimator with 28 features.\n",
      "Fitting estimator with 27 features.\n",
      "Fitting estimator with 26 features.\n",
      "Fitting estimator with 25 features.\n",
      "Fitting estimator with 24 features.\n",
      "Fitting estimator with 23 features.\n",
      "Fitting estimator with 22 features.\n",
      "Fitting estimator with 21 features.\n",
      "Fitting estimator with 20 features.\n",
      "Fitting estimator with 19 features.\n",
      "Fitting estimator with 18 features.\n",
      "Fitting estimator with 17 features.\n",
      "Fitting estimator with 16 features.\n",
      "Fitting estimator with 15 features.\n",
      "Fitting estimator with 14 features.\n",
      "Fitting estimator with 13 features.\n",
      "Fitting estimator with 12 features.\n",
      "Fitting estimator with 11 features.\n",
      "Fitting estimator with 10 features.\n",
      "Fitting estimator with 9 features.\n",
      "Fitting estimator with 8 features.\n",
      "Fitting estimator with 7 features.\n",
      "Fitting estimator with 6 features.\n",
      "Fitting estimator with 5 features.\n",
      "Fitting estimator with 4 features.\n",
      "Fitting estimator with 3 features.\n",
      "Fitting estimator with 2 features.\n",
      "Fitting estimator with 143 features.\n",
      "Fitting estimator with 142 features.\n",
      "Fitting estimator with 141 features.\n",
      "Fitting estimator with 140 features.\n",
      "Fitting estimator with 139 features.\n",
      "Fitting estimator with 138 features.\n",
      "Fitting estimator with 137 features.\n",
      "Fitting estimator with 136 features.\n",
      "Fitting estimator with 135 features.\n",
      "Fitting estimator with 134 features.\n",
      "Fitting estimator with 133 features.\n",
      "Fitting estimator with 132 features.\n",
      "Fitting estimator with 131 features.\n",
      "Fitting estimator with 130 features.\n",
      "Fitting estimator with 129 features.\n",
      "Fitting estimator with 128 features.\n",
      "Fitting estimator with 127 features.\n",
      "Fitting estimator with 126 features.\n",
      "Fitting estimator with 125 features.\n",
      "Fitting estimator with 124 features.\n",
      "Fitting estimator with 123 features.\n",
      "Fitting estimator with 122 features.\n",
      "Fitting estimator with 121 features.\n",
      "Fitting estimator with 120 features.\n",
      "Fitting estimator with 119 features.\n",
      "Fitting estimator with 118 features.\n",
      "Fitting estimator with 117 features.\n",
      "Fitting estimator with 116 features.\n",
      "Fitting estimator with 115 features.\n",
      "Fitting estimator with 114 features.\n",
      "Fitting estimator with 113 features.\n",
      "Fitting estimator with 112 features.\n",
      "Fitting estimator with 111 features.\n",
      "Fitting estimator with 110 features.\n",
      "Fitting estimator with 109 features.\n",
      "Fitting estimator with 108 features.\n",
      "Fitting estimator with 107 features.\n",
      "Fitting estimator with 106 features.\n",
      "Fitting estimator with 105 features.\n",
      "Fitting estimator with 104 features.\n",
      "Fitting estimator with 103 features.\n",
      "Fitting estimator with 102 features.\n",
      "Fitting estimator with 101 features.\n",
      "Fitting estimator with 100 features.\n",
      "Fitting estimator with 99 features.\n",
      "Fitting estimator with 98 features.\n",
      "Fitting estimator with 97 features.\n",
      "Fitting estimator with 96 features.\n",
      "Fitting estimator with 95 features.\n",
      "Fitting estimator with 94 features.\n",
      "Fitting estimator with 93 features.\n",
      "Fitting estimator with 92 features.\n",
      "Fitting estimator with 91 features.\n",
      "Fitting estimator with 90 features.\n",
      "Fitting estimator with 89 features.\n",
      "Fitting estimator with 88 features.\n",
      "Fitting estimator with 87 features.\n",
      "Fitting estimator with 86 features.\n",
      "Fitting estimator with 85 features.\n",
      "Fitting estimator with 84 features.\n",
      "Fitting estimator with 83 features.\n",
      "Fitting estimator with 82 features.\n",
      "Fitting estimator with 81 features.\n",
      "Fitting estimator with 80 features.\n",
      "Fitting estimator with 79 features.\n",
      "Fitting estimator with 78 features.\n",
      "Fitting estimator with 77 features.\n",
      "Fitting estimator with 76 features.\n",
      "Fitting estimator with 75 features.\n",
      "Fitting estimator with 74 features.\n",
      "Fitting estimator with 73 features.\n",
      "Fitting estimator with 72 features.\n",
      "Fitting estimator with 71 features.\n",
      "Fitting estimator with 70 features.\n",
      "Fitting estimator with 69 features.\n",
      "Fitting estimator with 68 features.\n",
      "Fitting estimator with 67 features.\n",
      "Fitting estimator with 66 features.\n",
      "Fitting estimator with 65 features.\n",
      "Fitting estimator with 64 features.\n",
      "Fitting estimator with 63 features.\n",
      "Fitting estimator with 62 features.\n",
      "Fitting estimator with 61 features.\n",
      "Fitting estimator with 60 features.\n",
      "Fitting estimator with 59 features.\n",
      "Fitting estimator with 58 features.\n",
      "Fitting estimator with 57 features.\n",
      "Fitting estimator with 56 features.\n",
      "Fitting estimator with 55 features.\n",
      "Fitting estimator with 54 features.\n",
      "Fitting estimator with 53 features.\n",
      "Fitting estimator with 52 features.\n",
      "Fitting estimator with 51 features.\n",
      "Fitting estimator with 50 features.\n",
      "Fitting estimator with 49 features.\n",
      "Fitting estimator with 48 features.\n",
      "Fitting estimator with 47 features.\n",
      "Fitting estimator with 46 features.\n",
      "Fitting estimator with 45 features.\n",
      "Fitting estimator with 44 features.\n",
      "Fitting estimator with 43 features.\n",
      "Fitting estimator with 42 features.\n",
      "Fitting estimator with 41 features.\n",
      "Fitting estimator with 40 features.\n",
      "Fitting estimator with 39 features.\n",
      "Fitting estimator with 38 features.\n",
      "Fitting estimator with 37 features.\n",
      "Fitting estimator with 36 features.\n",
      "Fitting estimator with 35 features.\n",
      "Fitting estimator with 34 features.\n",
      "Fitting estimator with 33 features.\n",
      "Fitting estimator with 32 features.\n",
      "Fitting estimator with 31 features.\n",
      "Fitting estimator with 30 features.\n",
      "Fitting estimator with 29 features.\n",
      "Fitting estimator with 28 features.\n",
      "Fitting estimator with 27 features.\n",
      "Fitting estimator with 26 features.\n",
      "Fitting estimator with 25 features.\n",
      "Fitting estimator with 24 features.\n",
      "Fitting estimator with 23 features.\n",
      "Fitting estimator with 22 features.\n",
      "Fitting estimator with 21 features.\n",
      "Fitting estimator with 20 features.\n",
      "Fitting estimator with 19 features.\n",
      "Fitting estimator with 18 features.\n",
      "Fitting estimator with 17 features.\n",
      "Fitting estimator with 16 features.\n",
      "Fitting estimator with 15 features.\n",
      "Fitting estimator with 14 features.\n",
      "Fitting estimator with 13 features.\n",
      "Fitting estimator with 12 features.\n",
      "Fitting estimator with 11 features.\n",
      "Fitting estimator with 10 features.\n",
      "Fitting estimator with 9 features.\n",
      "Fitting estimator with 8 features.\n",
      "Fitting estimator with 7 features.\n",
      "Fitting estimator with 6 features.\n",
      "Fitting estimator with 5 features.\n",
      "Fitting estimator with 4 features.\n",
      "Fitting estimator with 3 features.\n",
      "Fitting estimator with 2 features.\n",
      "Fitting estimator with 143 features.\n",
      "Fitting estimator with 142 features.\n",
      "Fitting estimator with 141 features.\n",
      "Fitting estimator with 140 features.\n",
      "Fitting estimator with 139 features.\n",
      "Fitting estimator with 138 features.\n",
      "Fitting estimator with 137 features.\n",
      "Fitting estimator with 136 features.\n",
      "Fitting estimator with 135 features.\n",
      "Fitting estimator with 134 features.\n",
      "Fitting estimator with 133 features.\n",
      "Fitting estimator with 132 features.\n",
      "Fitting estimator with 131 features.\n",
      "Fitting estimator with 130 features.\n",
      "Fitting estimator with 129 features.\n",
      "Fitting estimator with 128 features.\n",
      "Fitting estimator with 127 features.\n",
      "Fitting estimator with 126 features.\n",
      "Fitting estimator with 125 features.\n",
      "Fitting estimator with 124 features.\n",
      "Fitting estimator with 123 features.\n",
      "Fitting estimator with 122 features.\n",
      "Fitting estimator with 121 features.\n",
      "Fitting estimator with 120 features.\n",
      "Fitting estimator with 119 features.\n",
      "Fitting estimator with 118 features.\n",
      "Fitting estimator with 117 features.\n",
      "Fitting estimator with 116 features.\n",
      "Fitting estimator with 115 features.\n",
      "Fitting estimator with 114 features.\n",
      "Fitting estimator with 113 features.\n",
      "Fitting estimator with 112 features.\n",
      "Fitting estimator with 111 features.\n",
      "Fitting estimator with 110 features.\n",
      "Fitting estimator with 109 features.\n",
      "Fitting estimator with 108 features.\n",
      "Fitting estimator with 107 features.\n",
      "Fitting estimator with 106 features.\n",
      "Fitting estimator with 105 features.\n",
      "Fitting estimator with 104 features.\n",
      "Fitting estimator with 103 features.\n",
      "Fitting estimator with 102 features.\n",
      "Fitting estimator with 101 features.\n",
      "Fitting estimator with 100 features.\n",
      "Fitting estimator with 99 features.\n",
      "Fitting estimator with 98 features.\n",
      "Fitting estimator with 97 features.\n",
      "Fitting estimator with 96 features.\n",
      "Fitting estimator with 95 features.\n",
      "Fitting estimator with 94 features.\n",
      "Fitting estimator with 93 features.\n",
      "Fitting estimator with 92 features.\n",
      "Fitting estimator with 91 features.\n",
      "Fitting estimator with 90 features.\n",
      "Fitting estimator with 89 features.\n",
      "Fitting estimator with 88 features.\n",
      "Fitting estimator with 87 features.\n",
      "Fitting estimator with 86 features.\n",
      "Fitting estimator with 85 features.\n",
      "Fitting estimator with 84 features.\n",
      "Fitting estimator with 83 features.\n",
      "Fitting estimator with 82 features.\n",
      "Fitting estimator with 81 features.\n",
      "Fitting estimator with 80 features.\n",
      "Fitting estimator with 79 features.\n",
      "Fitting estimator with 78 features.\n",
      "Fitting estimator with 77 features.\n",
      "Fitting estimator with 76 features.\n",
      "Fitting estimator with 75 features.\n",
      "Fitting estimator with 74 features.\n",
      "Fitting estimator with 73 features.\n",
      "Fitting estimator with 72 features.\n",
      "Fitting estimator with 71 features.\n",
      "Fitting estimator with 70 features.\n",
      "Fitting estimator with 69 features.\n",
      "Fitting estimator with 68 features.\n",
      "Fitting estimator with 67 features.\n",
      "Fitting estimator with 66 features.\n",
      "Fitting estimator with 65 features.\n",
      "Fitting estimator with 64 features.\n",
      "Fitting estimator with 63 features.\n",
      "Fitting estimator with 62 features.\n",
      "Fitting estimator with 61 features.\n",
      "Fitting estimator with 60 features.\n",
      "Fitting estimator with 59 features.\n",
      "Fitting estimator with 58 features.\n",
      "Fitting estimator with 57 features.\n",
      "Fitting estimator with 56 features.\n",
      "Fitting estimator with 55 features.\n",
      "Fitting estimator with 54 features.\n",
      "Fitting estimator with 53 features.\n",
      "Fitting estimator with 52 features.\n",
      "Fitting estimator with 51 features.\n",
      "Fitting estimator with 50 features.\n",
      "Fitting estimator with 49 features.\n",
      "Fitting estimator with 48 features.\n",
      "Fitting estimator with 47 features.\n",
      "Fitting estimator with 46 features.\n",
      "Fitting estimator with 45 features.\n",
      "Fitting estimator with 44 features.\n",
      "Fitting estimator with 43 features.\n",
      "Fitting estimator with 42 features.\n",
      "Fitting estimator with 41 features.\n",
      "Fitting estimator with 40 features.\n",
      "Fitting estimator with 39 features.\n",
      "Fitting estimator with 38 features.\n",
      "Fitting estimator with 37 features.\n",
      "Fitting estimator with 36 features.\n",
      "Fitting estimator with 35 features.\n",
      "Fitting estimator with 34 features.\n",
      "Fitting estimator with 33 features.\n",
      "Fitting estimator with 32 features.\n",
      "Fitting estimator with 31 features.\n",
      "Fitting estimator with 30 features.\n",
      "Fitting estimator with 29 features.\n",
      "Fitting estimator with 28 features.\n",
      "Fitting estimator with 27 features.\n",
      "Fitting estimator with 26 features.\n",
      "Fitting estimator with 25 features.\n",
      "Fitting estimator with 24 features.\n",
      "Fitting estimator with 23 features.\n",
      "Fitting estimator with 22 features.\n",
      "Fitting estimator with 21 features.\n",
      "Fitting estimator with 20 features.\n",
      "Fitting estimator with 19 features.\n",
      "Fitting estimator with 18 features.\n",
      "Fitting estimator with 17 features.\n",
      "Fitting estimator with 16 features.\n",
      "Fitting estimator with 15 features.\n",
      "Fitting estimator with 14 features.\n",
      "Fitting estimator with 13 features.\n",
      "Fitting estimator with 12 features.\n",
      "Fitting estimator with 11 features.\n",
      "Fitting estimator with 10 features.\n",
      "Fitting estimator with 9 features.\n",
      "Fitting estimator with 8 features.\n",
      "Fitting estimator with 7 features.\n",
      "Fitting estimator with 6 features.\n",
      "Fitting estimator with 5 features.\n",
      "Fitting estimator with 4 features.\n",
      "Fitting estimator with 3 features.\n",
      "Fitting estimator with 2 features.\n",
      "Fitting estimator with 143 features.\n",
      "Fitting estimator with 142 features.\n",
      "Fitting estimator with 141 features.\n",
      "Fitting estimator with 140 features.\n",
      "Fitting estimator with 139 features.\n",
      "Fitting estimator with 138 features.\n",
      "Fitting estimator with 137 features.\n",
      "Fitting estimator with 136 features.\n",
      "Fitting estimator with 135 features.\n",
      "Fitting estimator with 134 features.\n",
      "Fitting estimator with 133 features.\n",
      "Fitting estimator with 132 features.\n",
      "Fitting estimator with 131 features.\n",
      "Fitting estimator with 130 features.\n",
      "Fitting estimator with 129 features.\n",
      "Fitting estimator with 128 features.\n",
      "Fitting estimator with 127 features.\n",
      "Fitting estimator with 126 features.\n",
      "Fitting estimator with 125 features.\n",
      "Fitting estimator with 124 features.\n",
      "Fitting estimator with 123 features.\n",
      "Fitting estimator with 122 features.\n",
      "Fitting estimator with 121 features.\n",
      "Fitting estimator with 120 features.\n",
      "Fitting estimator with 119 features.\n",
      "Fitting estimator with 118 features.\n",
      "Fitting estimator with 117 features.\n",
      "Fitting estimator with 116 features.\n",
      "Fitting estimator with 115 features.\n",
      "Fitting estimator with 114 features.\n",
      "Fitting estimator with 113 features.\n",
      "Fitting estimator with 112 features.\n",
      "Fitting estimator with 111 features.\n",
      "Fitting estimator with 110 features.\n",
      "Fitting estimator with 109 features.\n",
      "Fitting estimator with 108 features.\n",
      "Fitting estimator with 107 features.\n",
      "Fitting estimator with 106 features.\n",
      "Fitting estimator with 105 features.\n",
      "Fitting estimator with 104 features.\n",
      "Fitting estimator with 103 features.\n",
      "Fitting estimator with 102 features.\n",
      "Fitting estimator with 101 features.\n",
      "Fitting estimator with 100 features.\n",
      "Fitting estimator with 99 features.\n",
      "Fitting estimator with 98 features.\n",
      "Fitting estimator with 97 features.\n",
      "Fitting estimator with 96 features.\n",
      "Fitting estimator with 95 features.\n",
      "Fitting estimator with 94 features.\n",
      "Fitting estimator with 93 features.\n",
      "Fitting estimator with 92 features.\n",
      "Fitting estimator with 91 features.\n",
      "Fitting estimator with 90 features.\n",
      "Fitting estimator with 89 features.\n",
      "Fitting estimator with 88 features.\n",
      "Fitting estimator with 87 features.\n",
      "Fitting estimator with 86 features.\n",
      "Fitting estimator with 85 features.\n",
      "Fitting estimator with 84 features.\n",
      "Fitting estimator with 83 features.\n",
      "Fitting estimator with 82 features.\n",
      "Fitting estimator with 81 features.\n",
      "Fitting estimator with 80 features.\n",
      "Fitting estimator with 79 features.\n",
      "Fitting estimator with 78 features.\n",
      "Fitting estimator with 77 features.\n",
      "Fitting estimator with 76 features.\n",
      "Fitting estimator with 75 features.\n",
      "Fitting estimator with 74 features.\n",
      "Fitting estimator with 73 features.\n",
      "Fitting estimator with 72 features.\n",
      "Fitting estimator with 71 features.\n",
      "Fitting estimator with 70 features.\n",
      "Fitting estimator with 69 features.\n",
      "Fitting estimator with 68 features.\n",
      "Fitting estimator with 67 features.\n",
      "Fitting estimator with 66 features.\n",
      "Fitting estimator with 65 features.\n",
      "Fitting estimator with 64 features.\n",
      "Fitting estimator with 63 features.\n",
      "Fitting estimator with 62 features.\n",
      "Fitting estimator with 61 features.\n",
      "Fitting estimator with 60 features.\n",
      "Fitting estimator with 59 features.\n",
      "Fitting estimator with 58 features.\n",
      "Fitting estimator with 57 features.\n",
      "Fitting estimator with 56 features.\n",
      "Fitting estimator with 55 features.\n",
      "Fitting estimator with 54 features.\n",
      "Fitting estimator with 53 features.\n",
      "Fitting estimator with 52 features.\n",
      "Fitting estimator with 51 features.\n",
      "Fitting estimator with 50 features.\n",
      "Fitting estimator with 49 features.\n",
      "Fitting estimator with 48 features.\n",
      "Fitting estimator with 47 features.\n",
      "Fitting estimator with 46 features.\n",
      "Fitting estimator with 45 features.\n",
      "Fitting estimator with 44 features.\n",
      "Fitting estimator with 43 features.\n",
      "Fitting estimator with 42 features.\n",
      "Fitting estimator with 41 features.\n",
      "Fitting estimator with 40 features.\n",
      "Fitting estimator with 39 features.\n",
      "Fitting estimator with 38 features.\n",
      "Fitting estimator with 37 features.\n",
      "Fitting estimator with 36 features.\n",
      "Fitting estimator with 35 features.\n",
      "Fitting estimator with 34 features.\n",
      "Fitting estimator with 33 features.\n",
      "Fitting estimator with 32 features.\n",
      "Fitting estimator with 31 features.\n",
      "Fitting estimator with 30 features.\n",
      "Fitting estimator with 29 features.\n",
      "Fitting estimator with 28 features.\n",
      "Fitting estimator with 27 features.\n",
      "Fitting estimator with 26 features.\n",
      "Fitting estimator with 25 features.\n",
      "Fitting estimator with 24 features.\n",
      "Fitting estimator with 23 features.\n",
      "Fitting estimator with 22 features.\n",
      "Fitting estimator with 21 features.\n",
      "Fitting estimator with 20 features.\n",
      "Fitting estimator with 19 features.\n",
      "Fitting estimator with 18 features.\n",
      "Fitting estimator with 17 features.\n",
      "Fitting estimator with 16 features.\n",
      "Fitting estimator with 15 features.\n",
      "Fitting estimator with 14 features.\n",
      "Fitting estimator with 13 features.\n",
      "Fitting estimator with 12 features.\n",
      "Fitting estimator with 11 features.\n",
      "Fitting estimator with 10 features.\n",
      "Fitting estimator with 9 features.\n",
      "Fitting estimator with 8 features.\n",
      "Fitting estimator with 7 features.\n",
      "Fitting estimator with 6 features.\n",
      "Fitting estimator with 5 features.\n",
      "Fitting estimator with 4 features.\n",
      "Fitting estimator with 3 features.\n",
      "Fitting estimator with 2 features.\n",
      "Fitting estimator with 143 features.\n",
      "Fitting estimator with 142 features.\n",
      "Fitting estimator with 141 features.\n",
      "Fitting estimator with 140 features.\n",
      "Fitting estimator with 139 features.\n",
      "Fitting estimator with 138 features.\n",
      "Fitting estimator with 137 features.\n",
      "Fitting estimator with 136 features.\n",
      "Fitting estimator with 135 features.\n",
      "Fitting estimator with 134 features.\n",
      "Fitting estimator with 133 features.\n",
      "Fitting estimator with 132 features.\n",
      "Fitting estimator with 131 features.\n",
      "Fitting estimator with 130 features.\n",
      "Fitting estimator with 129 features.\n",
      "Fitting estimator with 128 features.\n",
      "Fitting estimator with 127 features.\n",
      "Fitting estimator with 126 features.\n",
      "Fitting estimator with 125 features.\n",
      "Fitting estimator with 124 features.\n",
      "Fitting estimator with 123 features.\n",
      "Fitting estimator with 122 features.\n",
      "Fitting estimator with 121 features.\n"
     ]
    }
   ],
   "source": [
    "x_train_processed = x_pipeline.fit_transform(x_train, y_train_processed)"
   ]
  },
  {
   "cell_type": "code",
   "execution_count": 13,
   "id": "abb83e03-55bc-4333-b814-058a0db31d40",
   "metadata": {
    "colab": {
     "base_uri": "https://localhost:8080/"
    },
    "id": "abb83e03-55bc-4333-b814-058a0db31d40",
    "outputId": "1c348df5-5e2d-46d5-d937-dd9e98c9971f"
   },
   "outputs": [
    {
     "name": "stderr",
     "output_type": "stream",
     "text": [
      "/home/sonhn/learning/datascience/pyenv/lib/python3.9/site-packages/pandas/core/arrays/datetimelike.py:1187: PerformanceWarning: Adding/subtracting object-dtype array to DatetimeArray not vectorized\n",
      "  warnings.warn(\n",
      "/home/sonhn/learning/datascience/pyenv/lib/python3.9/site-packages/urllib3/connectionpool.py:1013: InsecureRequestWarning: Unverified HTTPS request is being made to host 'app.zipcodebase.com'. Adding certificate verification is strongly advised. See: https://urllib3.readthedocs.io/en/1.26.x/advanced-usage.html#ssl-warnings\n",
      "  warnings.warn(\n"
     ]
    },
    {
     "name": "stdout",
     "output_type": "stream",
     "text": [
      "API request: https://app.zipcodebase.com/api/v1/search?codes=0%2C67219&country=US\n"
     ]
    }
   ],
   "source": [
    "x_test_processed = x_pipeline.transform(x_test)"
   ]
  },
  {
   "cell_type": "code",
   "execution_count": 14,
   "id": "97f39a7c-9d89-43b9-9f72-e0b6c3869d0d",
   "metadata": {
    "colab": {
     "base_uri": "https://localhost:8080/"
    },
    "id": "97f39a7c-9d89-43b9-9f72-e0b6c3869d0d",
    "outputId": "d239da61-4d53-48fb-be4c-30547b6dc521"
   },
   "outputs": [
    {
     "name": "stdout",
     "output_type": "stream",
     "text": [
      "Number of feature: 143\n",
      "Number of feature after selection: 120\n"
     ]
    }
   ],
   "source": [
    "print('Number of feature:', stage4.n_features_in_)\n",
    "print('Number of feature after selection:', stage4.n_features_)"
   ]
  },
  {
   "cell_type": "code",
   "execution_count": 15,
   "id": "6cf3c584-7999-41ae-80e0-00934ca23526",
   "metadata": {
    "colab": {
     "base_uri": "https://localhost:8080/"
    },
    "id": "6cf3c584-7999-41ae-80e0-00934ca23526",
    "outputId": "e4063893-41f3-4d92-cb2b-896ef73499ce"
   },
   "outputs": [
    {
     "name": "stdout",
     "output_type": "stream",
     "text": [
      "Features: ['DisbursementGross', 'Term', 'NoEmp', 'State_AK', 'State_AL', 'State_AR', 'State_AZ', 'State_CA', 'State_CO', 'State_CT', 'State_DC', 'State_DE', 'State_FL', 'State_GA', 'State_HI', 'State_IA', 'State_ID', 'State_IL', 'State_IN', 'State_KS', 'State_KY', 'State_LA', 'State_MA', 'State_MD', 'State_ME', 'State_MI', 'State_MN', 'State_MO', 'State_MS', 'State_MT', 'State_NC', 'State_ND', 'State_NE', 'State_NH', 'State_NJ', 'State_NM', 'State_NV', 'State_NY', 'State_OH', 'State_OK', 'State_OR', 'State_PA', 'State_RI', 'State_SC', 'State_SD', 'State_TN', 'State_TX', 'State_UNK', 'State_UT', 'State_VA', 'State_VT', 'State_WA', 'State_WI', 'State_WV', 'State_WY', 'BankState_AK', 'BankState_AL', 'BankState_AR', 'BankState_AZ', 'BankState_CA', 'BankState_CO', 'BankState_CT', 'BankState_DC', 'BankState_DE', 'BankState_EN', 'BankState_FL', 'BankState_GA', 'BankState_GU', 'BankState_HI', 'BankState_IA', 'BankState_ID', 'BankState_IL', 'BankState_IN', 'BankState_KS', 'BankState_KY', 'BankState_LA', 'BankState_MA', 'BankState_MD', 'BankState_ME', 'BankState_MI', 'BankState_MN', 'BankState_MO', 'BankState_MS', 'BankState_MT', 'BankState_NC', 'BankState_ND', 'BankState_NE', 'BankState_NH', 'BankState_NJ', 'BankState_NM', 'BankState_NV', 'BankState_NY', 'BankState_OH', 'BankState_OK', 'BankState_OR', 'BankState_PA', 'BankState_PR', 'BankState_RI', 'BankState_SC', 'BankState_SD', 'BankState_TN', 'BankState_TX', 'BankState_UT', 'BankState_VA', 'BankState_VI', 'BankState_VT', 'BankState_WA', 'BankState_WI', 'BankState_WV', 'BankState_WY', 'Industry_0', 'Industry_1', 'Industry_2', 'Industry_3', 'Industry_4', 'Industry_5', 'Industry_6', 'Industry_7', 'Industry_8', 'Industry_9', 'Industry_10', 'Industry_11', 'Industry_12', 'Industry_13', 'Industry_14', 'Industry_15', 'Industry_16', 'Industry_17', 'Industry_18', 'Industry_19', 'Industry_20', 'RevLineCR_N', 'RevLineCR_U', 'RevLineCR_Y', 'UrbanRural_0', 'UrbanRural_1', 'UrbanRural_2', 'SBA_Appv_Ratio', 'Recession', 'ChgOffHist', 'LowDoc', 'FranchiseCode', 'NewExist']\n"
     ]
    }
   ],
   "source": [
    "categs = stage2.named_transformers_['encode_state'].categories_\n",
    "cols1 = [feature+'_'+categ for i, feature in enumerate(['State', 'BankState']) for categ in categs[i]]\n",
    "categs = stage2.named_transformers_['encode_industry'].categories_\n",
    "cols2 = [feature+'_'+str(categ) for i, feature in enumerate(['Industry']) for categ in categs[i]]\n",
    "categs = stage2.named_transformers_['encode_revlinecr'].categories_\n",
    "cols3 = [feature+'_'+str(categ) for i, feature in enumerate(['RevLineCR']) for categ in categs[i]]\n",
    "categs = stage2.named_transformers_['encode_urbanrural'].categories_\n",
    "cols4 = [feature+'_'+str(categ) for i, feature in enumerate(['UrbanRural']) for categ in categs[i]]\n",
    "COL_NAME = ['DisbursementGross', 'Term', 'NoEmp',\n",
    "            *cols1,\n",
    "            *cols2,\n",
    "            *cols3,\n",
    "            *cols4,\n",
    "            'SBA_Appv_Ratio',\n",
    "            'Recession',\n",
    "            'ChgOffHist',\n",
    "            'LowDoc',\n",
    "            'FranchiseCode',\n",
    "            'NewExist']\n",
    "print('Features:', COL_NAME)"
   ]
  },
  {
   "cell_type": "code",
   "execution_count": 16,
   "id": "ac98f390-422b-44b2-bb3f-0a2368365f48",
   "metadata": {
    "colab": {
     "base_uri": "https://localhost:8080/"
    },
    "id": "ac98f390-422b-44b2-bb3f-0a2368365f48",
    "outputId": "f937a33e-3a50-47b6-825f-f3e0b3c223f5"
   },
   "outputs": [
    {
     "name": "stdout",
     "output_type": "stream",
     "text": [
      "Feature after selection: ['DisbursementGross', 'Term', 'NoEmp', 'State_AK', 'State_AL', 'State_AR', 'State_AZ', 'State_CA', 'State_CO', 'State_CT', 'State_DC', 'State_DE', 'State_FL', 'State_GA', 'State_HI', 'State_IA', 'State_IL', 'State_IN', 'State_KY', 'State_LA', 'State_MA', 'State_MD', 'State_ME', 'State_MI', 'State_MS', 'State_MT', 'State_NC', 'State_ND', 'State_NE', 'State_NH', 'State_NJ', 'State_NM', 'State_NV', 'State_OK', 'State_RI', 'State_SC', 'State_SD', 'State_TN', 'State_TX', 'State_UNK', 'State_UT', 'State_VA', 'State_VT', 'State_WI', 'State_WY', 'BankState_AK', 'BankState_AR', 'BankState_AZ', 'BankState_CA', 'BankState_CO', 'BankState_CT', 'BankState_DC', 'BankState_DE', 'BankState_EN', 'BankState_FL', 'BankState_GA', 'BankState_GU', 'BankState_HI', 'BankState_IA', 'BankState_ID', 'BankState_IL', 'BankState_IN', 'BankState_KS', 'BankState_LA', 'BankState_MA', 'BankState_MD', 'BankState_MI', 'BankState_MN', 'BankState_MS', 'BankState_MT', 'BankState_NC', 'BankState_ND', 'BankState_NE', 'BankState_NH', 'BankState_NJ', 'BankState_NM', 'BankState_NV', 'BankState_NY', 'BankState_OH', 'BankState_OK', 'BankState_OR', 'BankState_PA', 'BankState_PR', 'BankState_RI', 'BankState_SC', 'BankState_SD', 'BankState_TN', 'BankState_TX', 'BankState_UT', 'BankState_VA', 'BankState_VT', 'BankState_WA', 'BankState_WI', 'BankState_WV', 'BankState_WY', 'Industry_1', 'Industry_2', 'Industry_3', 'Industry_5', 'Industry_6', 'Industry_7', 'Industry_10', 'Industry_11', 'Industry_12', 'Industry_13', 'Industry_16', 'Industry_17', 'Industry_18', 'RevLineCR_N', 'RevLineCR_U', 'RevLineCR_Y', 'UrbanRural_0', 'UrbanRural_1', 'UrbanRural_2', 'SBA_Appv_Ratio', 'Recession', 'ChgOffHist', 'LowDoc', 'FranchiseCode', 'NewExist']\n"
     ]
    }
   ],
   "source": [
    "keep = [COL_NAME[int(i[1:])] for i in stage4.get_feature_names_out()]\n",
    "print('Feature after selection:', keep)"
   ]
  },
  {
   "cell_type": "code",
   "execution_count": 17,
   "id": "b06031a7-fada-4d9d-9761-c4aca8b29839",
   "metadata": {
    "colab": {
     "base_uri": "https://localhost:8080/"
    },
    "id": "b06031a7-fada-4d9d-9761-c4aca8b29839",
    "outputId": "e91658b5-3e34-49e2-fd0e-d397aa09bf86"
   },
   "outputs": [
    {
     "name": "stdout",
     "output_type": "stream",
     "text": [
      "Feature dropped: ['State_ID', 'State_KS', 'State_MN', 'State_MO', 'State_NY', 'State_OH', 'State_OR', 'State_PA', 'State_WA', 'State_WV', 'BankState_AL', 'BankState_KY', 'BankState_ME', 'BankState_MO', 'BankState_VI', 'Industry_0', 'Industry_4', 'Industry_8', 'Industry_9', 'Industry_14', 'Industry_15', 'Industry_19', 'Industry_20']\n"
     ]
    }
   ],
   "source": [
    "drop = [feature for feature in COL_NAME if feature not in keep]\n",
    "print('Feature dropped:', drop)"
   ]
  },
  {
   "cell_type": "code",
   "execution_count": 18,
   "id": "27ae5728-c5ca-4dab-a925-09d40730debe",
   "metadata": {
    "id": "27ae5728-c5ca-4dab-a925-09d40730debe"
   },
   "outputs": [],
   "source": [
    "save_npz('x_train_processed.npz', x_train_processed)\n",
    "save_npz('x_test_processed.npz', x_test_processed)\n",
    "with open('kept_features.json', 'w') as f:\n",
    "    json.dump(keep, f)"
   ]
  },
  {
   "cell_type": "code",
   "execution_count": 33,
   "id": "b03aac79-d064-4d0d-a102-55ae18059f78",
   "metadata": {
    "id": "b03aac79-d064-4d0d-a102-55ae18059f78"
   },
   "outputs": [],
   "source": [
    "x_train_processed = load_npz('x_train_processed.npz')\n",
    "x_test_processed = load_npz('x_test_processed.npz')\n",
    "with open('kept_features.json', 'r') as f:\n",
    "    keep = json.load(f)"
   ]
  },
  {
   "cell_type": "markdown",
   "id": "51c6f358-594b-481b-995d-dd6da3c21501",
   "metadata": {
    "id": "51c6f358-594b-481b-995d-dd6da3c21501",
    "tags": []
   },
   "source": [
    "# Xây dựng mô hình"
   ]
  },
  {
   "cell_type": "code",
   "execution_count": 11,
   "id": "63b787eb-8887-4f8d-833b-4d0815590046",
   "metadata": {
    "id": "63b787eb-8887-4f8d-833b-4d0815590046"
   },
   "outputs": [],
   "source": [
    "from sklearn.metrics import classification_report\n",
    "from sklearn.metrics import confusion_matrix, ConfusionMatrixDisplay\n",
    "from sklearn.model_selection import GridSearchCV\n",
    "\n",
    "import xgboost as xgb"
   ]
  },
  {
   "cell_type": "markdown",
   "id": "372b4e05-9f87-4ccf-8cd0-b61fe0a80463",
   "metadata": {
    "id": "372b4e05-9f87-4ccf-8cd0-b61fe0a80463"
   },
   "source": [
    "## Phép đo\n",
    "\n",
    "Phép đo sử dụng để so sánh mô hình\n",
    "* F1 score"
   ]
  },
  {
   "cell_type": "markdown",
   "id": "58957c81-c7f4-4852-8a7c-87dc511fdc47",
   "metadata": {
    "id": "58957c81-c7f4-4852-8a7c-87dc511fdc47"
   },
   "source": [
    "## Mô hình Logistic\n",
    "\n",
    "Chọn mô hình Logistic có F1 score trên tập validation cao nhất với các giá trị C từ 10e-4 đến 10e4"
   ]
  },
  {
   "cell_type": "code",
   "execution_count": null,
   "id": "14d99b3a-346d-4e10-80dc-a98d8c6a708f",
   "metadata": {
    "id": "14d99b3a-346d-4e10-80dc-a98d8c6a708f"
   },
   "outputs": [],
   "source": [
    "# Load pretrain model\n",
    "with open('lr_model.pkl', 'rb') as f:\n",
    "    lr_model = pickle.load(f)"
   ]
  },
  {
   "cell_type": "code",
   "execution_count": 20,
   "id": "a5313a64-a7db-499f-9b0c-1aedd54df2bb",
   "metadata": {
    "colab": {
     "base_uri": "https://localhost:8080/"
    },
    "id": "a5313a64-a7db-499f-9b0c-1aedd54df2bb",
    "outputId": "ce8de294-1d50-48eb-a6f7-e6ce65460a0e",
    "tags": []
   },
   "outputs": [
    {
     "name": "stdout",
     "output_type": "stream",
     "text": [
      "Fitting 5 folds for each of 20 candidates, totalling 100 fits\n"
     ]
    },
    {
     "name": "stderr",
     "output_type": "stream",
     "text": [
      "/home/sonhn/learning/datascience/pyenv/lib/python3.9/site-packages/sklearn/linear_model/_logistic.py:814: ConvergenceWarning: lbfgs failed to converge (status=1):\n",
      "STOP: TOTAL NO. of ITERATIONS REACHED LIMIT.\n",
      "\n",
      "Increase the number of iterations (max_iter) or scale the data as shown in:\n",
      "    https://scikit-learn.org/stable/modules/preprocessing.html\n",
      "Please also refer to the documentation for alternative solver options:\n",
      "    https://scikit-learn.org/stable/modules/linear_model.html#logistic-regression\n",
      "  n_iter_i = _check_optimize_result(\n",
      "/home/sonhn/learning/datascience/pyenv/lib/python3.9/site-packages/sklearn/linear_model/_logistic.py:814: ConvergenceWarning: lbfgs failed to converge (status=1):\n",
      "STOP: TOTAL NO. of ITERATIONS REACHED LIMIT.\n",
      "\n",
      "Increase the number of iterations (max_iter) or scale the data as shown in:\n",
      "    https://scikit-learn.org/stable/modules/preprocessing.html\n",
      "Please also refer to the documentation for alternative solver options:\n",
      "    https://scikit-learn.org/stable/modules/linear_model.html#logistic-regression\n",
      "  n_iter_i = _check_optimize_result(\n",
      "/home/sonhn/learning/datascience/pyenv/lib/python3.9/site-packages/sklearn/linear_model/_logistic.py:814: ConvergenceWarning: lbfgs failed to converge (status=1):\n",
      "STOP: TOTAL NO. of ITERATIONS REACHED LIMIT.\n",
      "\n",
      "Increase the number of iterations (max_iter) or scale the data as shown in:\n",
      "    https://scikit-learn.org/stable/modules/preprocessing.html\n",
      "Please also refer to the documentation for alternative solver options:\n",
      "    https://scikit-learn.org/stable/modules/linear_model.html#logistic-regression\n",
      "  n_iter_i = _check_optimize_result(\n",
      "/home/sonhn/learning/datascience/pyenv/lib/python3.9/site-packages/sklearn/linear_model/_logistic.py:814: ConvergenceWarning: lbfgs failed to converge (status=1):\n",
      "STOP: TOTAL NO. of ITERATIONS REACHED LIMIT.\n",
      "\n",
      "Increase the number of iterations (max_iter) or scale the data as shown in:\n",
      "    https://scikit-learn.org/stable/modules/preprocessing.html\n",
      "Please also refer to the documentation for alternative solver options:\n",
      "    https://scikit-learn.org/stable/modules/linear_model.html#logistic-regression\n",
      "  n_iter_i = _check_optimize_result(\n"
     ]
    },
    {
     "data": {
      "text/plain": [
       "GridSearchCV(cv=KFold(n_splits=5, random_state=None, shuffle=False),\n",
       "             estimator=LogisticRegression(max_iter=400, n_jobs=-1, tol=0.0002),\n",
       "             param_grid={'C': [0.0001, 0.01, 1.0, 100.0, 10000.0],\n",
       "                         'class_weight': [None, 'balanced'],\n",
       "                         'fit_intercept': [False, True]},\n",
       "             return_train_score=True, scoring='f1', verbose=1)"
      ]
     },
     "execution_count": 20,
     "metadata": {},
     "output_type": "execute_result"
    }
   ],
   "source": [
    "param_grid = {\n",
    "    'C': [1e-4, 1e-2, 1.0, 1e2, 1e4],\n",
    "    'fit_intercept': [False, True],\n",
    "    'class_weight': [None, 'balanced'],\n",
    "}\n",
    "\n",
    "lr_model = GridSearchCV(LogisticRegression(solver='lbfgs',\n",
    "                                           max_iter=400,\n",
    "                                           n_jobs=-1,\n",
    "                                           tol=0.0002),\n",
    "                        param_grid,\n",
    "                        cv=kfold,\n",
    "                        return_train_score=True,\n",
    "                        scoring='f1',\n",
    "                        verbose=1)\n",
    "\n",
    "lr_model.fit(x_train_processed, y_train_processed)"
   ]
  },
  {
   "cell_type": "code",
   "execution_count": 21,
   "id": "fc9fb195-83e0-4da5-a030-15208662a573",
   "metadata": {
    "colab": {
     "base_uri": "https://localhost:8080/"
    },
    "id": "fc9fb195-83e0-4da5-a030-15208662a573",
    "outputId": "c7b3544d-d26e-44a4-ea41-ae1f97df2882"
   },
   "outputs": [
    {
     "name": "stdout",
     "output_type": "stream",
     "text": [
      "Best F1 score: 0.5431769447408594\n",
      "Best param: {'C': 100.0, 'class_weight': 'balanced', 'fit_intercept': False}\n"
     ]
    }
   ],
   "source": [
    "print('Best F1 score:', lr_model.best_score_)\n",
    "print('Best param:', lr_model.best_params_)"
   ]
  },
  {
   "cell_type": "code",
   "execution_count": 22,
   "id": "3fcbdfde-ed18-4568-9ab7-f45ad3be8bc5",
   "metadata": {
    "id": "3fcbdfde-ed18-4568-9ab7-f45ad3be8bc5"
   },
   "outputs": [],
   "source": [
    "# Save model\n",
    "with open('lr_model.pkl','wb') as f:\n",
    "    pickle.dump(lr_model, f)"
   ]
  },
  {
   "cell_type": "markdown",
   "id": "4985f53f-32b1-4530-a9c9-95fea3898d2b",
   "metadata": {
    "id": "4985f53f-32b1-4530-a9c9-95fea3898d2b"
   },
   "source": [
    "## Mô hình Gradient Boosting"
   ]
  },
  {
   "cell_type": "code",
   "execution_count": 22,
   "id": "c9ca2756-5c06-48ea-a90b-e7b0bfc48115",
   "metadata": {
    "id": "c9ca2756-5c06-48ea-a90b-e7b0bfc48115"
   },
   "outputs": [],
   "source": [
    "# Load pretrain model\n",
    "with open('gb_model.pkl', 'rb') as f:\n",
    "    gb_model = pickle.load(f)"
   ]
  },
  {
   "cell_type": "code",
   "execution_count": 23,
   "id": "0547d317-7809-4762-a8a3-0bf02fce9853",
   "metadata": {
    "colab": {
     "base_uri": "https://localhost:8080/"
    },
    "id": "0547d317-7809-4762-a8a3-0bf02fce9853",
    "outputId": "c4dd8ae0-e8b9-40d9-8577-9cca43434371"
   },
   "outputs": [
    {
     "name": "stdout",
     "output_type": "stream",
     "text": [
      "Fitting 5 folds for each of 48 candidates, totalling 240 fits\n"
     ]
    },
    {
     "data": {
      "text/plain": [
       "GridSearchCV(cv=KFold(n_splits=5, random_state=None, shuffle=False),\n",
       "             estimator=XGBClassifier(base_score=None, booster='gbtree',\n",
       "                                     colsample_bylevel=None,\n",
       "                                     colsample_bynode=None,\n",
       "                                     colsample_bytree=None,\n",
       "                                     enable_categorical=False, gamma=None,\n",
       "                                     gpu_id=None, importance_type=None,\n",
       "                                     interaction_constraints=None,\n",
       "                                     learning_rate=None, max_delta_step=None,\n",
       "                                     max_depth=None, min_chil...\n",
       "                                     num_parallel_tree=None, predictor=None,\n",
       "                                     random_state=None, reg_alpha=None,\n",
       "                                     reg_lambda=None, scale_pos_weight=None,\n",
       "                                     subsample=None, tree_method=None,\n",
       "                                     use_label_encoder=False,\n",
       "                                     validate_parameters=None, verbosity=None),\n",
       "             param_grid={'gamma': [0, 0.001], 'learning_rate': [0.1, 0.25, 0.5],\n",
       "                         'max_depth': [1, 3, 6, 9],\n",
       "                         'scale_pos_weight': [1.0, 4.404496573715992]},\n",
       "             return_train_score=True, scoring='f1', verbose=1)"
      ]
     },
     "execution_count": 23,
     "metadata": {},
     "output_type": "execute_result"
    }
   ],
   "source": [
    "param_grid = {\n",
    "    'max_depth': [1, 3, 6, 9],\n",
    "    'learning_rate': [0.1, 0.25, 0.5],\n",
    "    'gamma': [0, 0.001],\n",
    "    'scale_pos_weight': [1.0, WEIGHT]\n",
    "}\n",
    "\n",
    "gb_model = GridSearchCV(xgb.XGBClassifier(use_label_encoder=False,\n",
    "                                          objective='binary:logistic',\n",
    "                                          booster='gbtree',\n",
    "                                          n_estimators=40,\n",
    "                                          n_jobs=-1),\n",
    "                        param_grid,\n",
    "                        cv=kfold,\n",
    "                        return_train_score=True,\n",
    "                        scoring='f1',\n",
    "                        verbose=1)\n",
    "\n",
    "gb_model.fit(x_train_processed,\n",
    "             y_train_processed,\n",
    "             eval_metric='logloss')"
   ]
  },
  {
   "cell_type": "code",
   "execution_count": 24,
   "id": "670d6b67-92af-46fa-92bf-8dd7a5356308",
   "metadata": {
    "colab": {
     "base_uri": "https://localhost:8080/"
    },
    "id": "670d6b67-92af-46fa-92bf-8dd7a5356308",
    "outputId": "c0bd992a-4c1e-4586-feba-24e02e633824",
    "tags": []
   },
   "outputs": [
    {
     "name": "stdout",
     "output_type": "stream",
     "text": [
      "Best F1 score: 0.8590322405929888\n",
      "Best param: {'gamma': 0, 'learning_rate': 0.5, 'max_depth': 9, 'scale_pos_weight': 1.0}\n"
     ]
    }
   ],
   "source": [
    "print('Best F1 score:', gb_model.best_score_)\n",
    "print('Best param:', gb_model.best_params_)"
   ]
  },
  {
   "cell_type": "code",
   "execution_count": 25,
   "id": "ffb3fd2c-f571-4d9c-a299-d5848ca0cf00",
   "metadata": {
    "id": "ffb3fd2c-f571-4d9c-a299-d5848ca0cf00"
   },
   "outputs": [],
   "source": [
    "# Save model\n",
    "with open('gb_model.pkl','wb') as f:\n",
    "    pickle.dump(gb_model, f)"
   ]
  },
  {
   "cell_type": "markdown",
   "id": "9d22eb61-7f18-4e89-823e-003cfda9533b",
   "metadata": {
    "id": "9d22eb61-7f18-4e89-823e-003cfda9533b"
   },
   "source": [
    "# Đánh giá mô hình"
   ]
  },
  {
   "cell_type": "markdown",
   "id": "00fc1f5d-6a3f-4c3f-8632-6d7638a24a29",
   "metadata": {
    "id": "00fc1f5d-6a3f-4c3f-8632-6d7638a24a29"
   },
   "source": [
    "## So sánh kết quả mô hình"
   ]
  },
  {
   "cell_type": "markdown",
   "id": "dbf919de-0100-40fd-8020-df865bf602f8",
   "metadata": {
    "id": "dbf919de-0100-40fd-8020-df865bf602f8"
   },
   "source": [
    "* Căn cứ F1 score có thể thấy mô hình Gradient Boosting cho kết quả tốt nhất giữa 2 mô hình."
   ]
  },
  {
   "cell_type": "code",
   "execution_count": 26,
   "id": "23cd11e3-107c-4cfe-a204-aeab5b49956b",
   "metadata": {
    "colab": {
     "base_uri": "https://localhost:8080/"
    },
    "id": "23cd11e3-107c-4cfe-a204-aeab5b49956b",
    "outputId": "dda5daac-09e5-4765-c5e7-4be0130b8119"
   },
   "outputs": [
    {
     "name": "stdout",
     "output_type": "stream",
     "text": [
      "Test F1 score:\n",
      "============================================================\n",
      "Logistic model:\n",
      "============================================================\n",
      "              precision    recall  f1-score   support\n",
      "\n",
      "           0       0.95      0.73      0.82    173115\n",
      "           1       0.41      0.82      0.54     39304\n",
      "\n",
      "    accuracy                           0.74    212419\n",
      "   macro avg       0.68      0.78      0.68    212419\n",
      "weighted avg       0.85      0.74      0.77    212419\n",
      "\n",
      "============================================================\n",
      "Gradient Boosting model:\n",
      "============================================================\n",
      "              precision    recall  f1-score   support\n",
      "\n",
      "           0       0.96      0.98      0.97    173115\n",
      "           1       0.89      0.83      0.86     39304\n",
      "\n",
      "    accuracy                           0.95    212419\n",
      "   macro avg       0.93      0.90      0.91    212419\n",
      "weighted avg       0.95      0.95      0.95    212419\n",
      "\n"
     ]
    }
   ],
   "source": [
    "def report_f1(x, y):\n",
    "    print('='*60)\n",
    "    print('Logistic model:')\n",
    "    print('='*60)\n",
    "    yhat = lr_model.predict(x)\n",
    "    print(classification_report(y, yhat))\n",
    "\n",
    "    print('='*60)\n",
    "    print('Gradient Boosting model:')\n",
    "    print('='*60)\n",
    "    yhat = gb_model.predict(x)\n",
    "    print(classification_report(y, yhat))\n",
    "\n",
    "print('Test F1 score:')\n",
    "report_f1(x_test_processed, y_test_processed)"
   ]
  },
  {
   "cell_type": "code",
   "execution_count": 25,
   "id": "ddc3a94e-4ca7-476e-b834-b8cded39aad4",
   "metadata": {
    "colab": {
     "base_uri": "https://localhost:8080/",
     "height": 295
    },
    "id": "ddc3a94e-4ca7-476e-b834-b8cded39aad4",
    "outputId": "6c9fb98f-3fd9-4211-af89-277ec6b20e27"
   },
   "outputs": [
    {
     "data": {
      "image/png": "[encoded data removed]",
      "text/plain": [
       "<Figure size 432x288 with 2 Axes>"
      ]
     },
     "metadata": {
      "needs_background": "light"
     },
     "output_type": "display_data"
    }
   ],
   "source": [
    "yhat = gb_model.predict(x_test_processed)\n",
    "m = confusion_matrix(y_test_processed, yhat)\n",
    "ConfusionMatrixDisplay(m, display_labels=LABELS).plot()\n",
    "plt.title('Test Confusion matrix')\n",
    "plt.savefig('chart/confusion-matrix.png')\n",
    "plt.show()"
   ]
  },
  {
   "cell_type": "markdown",
   "id": "18f607d6-ff97-45b1-ae60-ceaa56d3c7a0",
   "metadata": {},
   "source": [
    "## Phân tích lỗi\n",
    "\n",
    "Các trường hợp thiếu dữ liệu RevLineCr, UrbanRural chiếm tỷ lệ cao trong các trường hợp lỗi (34,4%, 35,3%)\n",
    "Thử impute các trường hợp này bằng giá trị mode, kết quả F1 score không được cải thiện so với việc cho trường hợp lỗi là 1 category."
   ]
  },
  {
   "cell_type": "code",
   "execution_count": null,
   "id": "qGwjL-FLfi3e",
   "metadata": {
    "id": "qGwjL-FLfi3e"
   },
   "outputs": [],
   "source": [
    "df_err = pd.read_csv('errors.csv', index_col=0)"
   ]
  },
  {
   "cell_type": "code",
   "execution_count": 28,
   "id": "7eb0877b-74fe-4def-9686-4f99734d08b4",
   "metadata": {
    "id": "7eb0877b-74fe-4def-9686-4f99734d08b4"
   },
   "outputs": [],
   "source": [
    "yhat = gb_model.predict(x_test_processed)\n",
    "error_cond = (y_test_processed!= yhat)\n",
    "x_test_err = x_test[error_cond]\n",
    "y_test_err = y_test[error_cond]\n",
    "df_err = pd.concat([x_test_err, y_test_err], axis=1)\n",
    "df_err.to_csv('errors.csv')"
   ]
  },
  {
   "cell_type": "code",
   "execution_count": 29,
   "id": "yfZ9Iy3Rfhkk",
   "metadata": {
    "colab": {
     "base_uri": "https://localhost:8080/"
    },
    "id": "yfZ9Iy3Rfhkk",
    "outputId": "700745ca-805f-4227-a01b-8ced97f47068"
   },
   "outputs": [
    {
     "data": {
      "text/plain": [
       "N    0.466592\n",
       "0    0.317936\n",
       "Y    0.189996\n",
       "T    0.025383\n",
       "`    0.000093\n",
       "Name: RevLineCr, dtype: float64"
      ]
     },
     "execution_count": 29,
     "metadata": {},
     "output_type": "execute_result"
    }
   ],
   "source": [
    "df_err['RevLineCr'].value_counts() / df_err['RevLineCr'].count()"
   ]
  },
  {
   "cell_type": "code",
   "execution_count": 30,
   "id": "c42ae3f2-488a-4dc1-b7ad-175f2b087778",
   "metadata": {},
   "outputs": [
    {
     "data": {
      "text/plain": [
       "1    0.505354\n",
       "0    0.353292\n",
       "2    0.141354\n",
       "Name: UrbanRural, dtype: float64"
      ]
     },
     "execution_count": 30,
     "metadata": {},
     "output_type": "execute_result"
    }
   ],
   "source": [
    "df_err['UrbanRural'].value_counts() / df_err['UrbanRural'].count()"
   ]
  },
  {
   "cell_type": "code",
   "execution_count": 34,
   "id": "Dp4vnafFhT03",
   "metadata": {
    "id": "Dp4vnafFhT03"
   },
   "outputs": [],
   "source": [
    "x_train_processed = x_train_processed.toarray()\n",
    "x_test_processed = x_test_processed.toarray()\n",
    "\n",
    "idx = [i for i, col in enumerate(keep) if col.startswith('UrbanRural')]\n",
    "x_train_processed = np.delete(x_train_processed, idx, axis=1)\n",
    "x_test_processed = np.delete(x_test_processed, idx, axis=1)\n",
    "\n",
    "idx = [i for i, col in enumerate(keep) if col.startswith('RevLineCr')]\n",
    "x_train_processed = np.delete(x_train_processed, idx, axis=1)\n",
    "x_test_processed = np.delete(x_test_processed, idx, axis=1)"
   ]
  },
  {
   "cell_type": "code",
   "execution_count": 35,
   "id": "c6325411-6129-4e53-9c01-b7e5c8e6f1ed",
   "metadata": {},
   "outputs": [],
   "source": [
    "revlinecr = x_train['RevLineCr'].map({'N': 0, 'Y': 1})\n",
    "revlinecr[revlinecr.isna()] = revlinecr.mode()[0]\n",
    "revlinecr = revlinecr.to_numpy().reshape(-1, 1)\n",
    "urbanrural = x_train['UrbanRural'].map({1: 0, 2: 1})\n",
    "urbanrural[urbanrural.isna()] = urbanrural.mode()[0]\n",
    "urbanrural = urbanrural.to_numpy().reshape(-1, 1)\n",
    "x_train_processed = np.concatenate([x_train_processed, revlinecr, urbanrural],\n",
    "                                   axis=1)\n",
    "\n",
    "revlinecr = x_test['RevLineCr'].map({'N': 0, 'Y': 1})\n",
    "revlinecr[revlinecr.isna()] = revlinecr.mode()[0]\n",
    "revlinecr = revlinecr.to_numpy().reshape(-1, 1)\n",
    "urbanrural = x_test['UrbanRural'].map({1: 0, 2: 1})\n",
    "urbanrural[urbanrural.isna()] = urbanrural.mode()[0]\n",
    "urbanrural = urbanrural.to_numpy().reshape(-1, 1)\n",
    "x_test_processed = np.concatenate([x_test_processed, revlinecr, urbanrural],\n",
    "                                  axis=1)\n",
    "del revlinecr\n",
    "del urbanrural\n",
    "del x_train\n",
    "del y_train"
   ]
  },
  {
   "cell_type": "code",
   "execution_count": null,
   "id": "e969e1c8-4e11-48f1-9e6c-84b987418f49",
   "metadata": {},
   "outputs": [],
   "source": [
    "# Load pretrain model\n",
    "with open('gb_model_alt.pkl', 'rb') as f:\n",
    "    model = pickle.load(f)"
   ]
  },
  {
   "cell_type": "code",
   "execution_count": 36,
   "id": "nMzR1uPnqrOR",
   "metadata": {
    "id": "nMzR1uPnqrOR"
   },
   "outputs": [
    {
     "data": {
      "text/plain": [
       "XGBClassifier(base_score=0.5, booster='gbtree', colsample_bylevel=1,\n",
       "              colsample_bynode=1, colsample_bytree=1, enable_categorical=False,\n",
       "              gamma=0, gpu_id=-1, importance_type=None,\n",
       "              interaction_constraints='', learning_rate=0.5, max_delta_step=0,\n",
       "              max_depth=9, min_child_weight=1, missing=nan,\n",
       "              monotone_constraints='()', n_estimators=40, n_jobs=-1,\n",
       "              num_parallel_tree=1, predictor='auto', random_state=0,\n",
       "              reg_alpha=0, reg_lambda=1, scale_pos_weight=1.0, subsample=1,\n",
       "              tree_method='exact', use_label_encoder=False,\n",
       "              validate_parameters=1, verbosity=None)"
      ]
     },
     "execution_count": 36,
     "metadata": {},
     "output_type": "execute_result"
    }
   ],
   "source": [
    "model = xgb.XGBClassifier(use_label_encoder=False,\n",
    "                          objective='binary:logistic',\n",
    "                          booster='gbtree',\n",
    "                          n_estimators=40,\n",
    "                          n_jobs=-1,\n",
    "                          max_depth=9,\n",
    "                          gamma=0,\n",
    "                          learning_rate=0.5,\n",
    "                          scale_pos_weight=1.0)\n",
    "\n",
    "model.fit(x_train_processed,\n",
    "          y_train_processed,\n",
    "          eval_metric='logloss')"
   ]
  },
  {
   "cell_type": "code",
   "execution_count": 37,
   "id": "14e8e1ef-67e2-42bb-b8be-9910dec8a6d9",
   "metadata": {},
   "outputs": [],
   "source": [
    "# Save model\n",
    "with open('gb_model_alt.pkl','wb') as f:\n",
    "    pickle.dump(model, f)"
   ]
  },
  {
   "cell_type": "code",
   "execution_count": 41,
   "id": "462e4ae8-22af-46ff-a237-dee660721067",
   "metadata": {},
   "outputs": [
    {
     "name": "stdout",
     "output_type": "stream",
     "text": [
      "              precision    recall  f1-score   support\n",
      "\n",
      "           0       0.96      0.98      0.97    173115\n",
      "           1       0.89      0.83      0.86     39304\n",
      "\n",
      "    accuracy                           0.95    212419\n",
      "   macro avg       0.93      0.90      0.91    212419\n",
      "weighted avg       0.95      0.95      0.95    212419\n",
      "\n"
     ]
    },
    {
     "data": {
      "image/png": "[encoded data removed]",
      "text/plain": [
       "<Figure size 432x288 with 2 Axes>"
      ]
     },
     "metadata": {
      "needs_background": "light"
     },
     "output_type": "display_data"
    }
   ],
   "source": [
    "yhat = model.predict(x_test_processed)\n",
    "print(classification_report(y_test_processed, yhat))\n",
    "m = confusion_matrix(y_test_processed, yhat)\n",
    "ConfusionMatrixDisplay(m, display_labels=LABELS).plot()\n",
    "plt.title('Test Confusion matrix')\n",
    "plt.savefig('chart/confusion-matrix-alt.png')\n",
    "plt.show()"
   ]
  }
 ],
 "metadata": {
  "colab": {
   "name": "notebook.ipynb",
   "provenance": [],
   "toc_visible": true
  },
  "kernelspec": {
   "display_name": "Python 3 (ipykernel)",
   "language": "python",
   "name": "python3"
  },
  "language_info": {
   "codemirror_mode": {
    "name": "ipython",
    "version": 3
   },
   "file_extension": ".py",
   "mimetype": "text/x-python",
   "name": "python",
   "nbconvert_exporter": "python",
   "pygments_lexer": "ipython3",
   "version": "3.9.2"
  },
  "toc-autonumbering": true,
  "toc-showcode": false
 },
 "nbformat": 4,
 "nbformat_minor": 5
}
